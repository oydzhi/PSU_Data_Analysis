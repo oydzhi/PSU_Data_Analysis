{
 "cells": [
  {
   "cell_type": "markdown",
   "metadata": {},
   "source": [
    "### Знакомство с NumPy"
   ]
  },
  {
   "cell_type": "markdown",
   "metadata": {},
   "source": [
    "**Массив** – это структура данных, хранящая набор значений (элементов массива), идентифицируемых по индексу или набору индексов."
   ]
  },
  {
   "cell_type": "markdown",
   "metadata": {},
   "source": [
    "![img](https://fb.ru/misc/i/gallery/85062/2474727.jpg)"
   ]
  },
  {
   "cell_type": "markdown",
   "metadata": {},
   "source": [
    "![img](http://ok-t.ru/studopediaru/baza8/824192438767.files/image052.png)"
   ]
  },
  {
   "cell_type": "markdown",
   "metadata": {},
   "source": [
    "### **NumPy** (Numerical Python - \"числовой Python\") - мультимодульный пакет, представляющий собой библиотеку типов и функций для работы с массивами. "
   ]
  },
  {
   "cell_type": "code",
   "execution_count": 1,
   "metadata": {},
   "outputs": [],
   "source": [
    "import numpy as np"
   ]
  },
  {
   "cell_type": "markdown",
   "metadata": {},
   "source": [
    "#### Создание массивов с NumPy"
   ]
  },
  {
   "cell_type": "code",
   "execution_count": 2,
   "metadata": {},
   "outputs": [
    {
     "name": "stdout",
     "output_type": "stream",
     "text": [
      "[1 4 2 5 3]\n"
     ]
    }
   ],
   "source": [
    "arr = np.array([1, 4, 2, 5, 3]) # Создание массива с помощью списка чисел\n",
    "print(arr)"
   ]
  },
  {
   "cell_type": "code",
   "execution_count": 3,
   "metadata": {},
   "outputs": [
    {
     "data": {
      "text/plain": [
       "array([1, 4, 2, 5, 3])"
      ]
     },
     "execution_count": 3,
     "metadata": {},
     "output_type": "execute_result"
    }
   ],
   "source": [
    "arr"
   ]
  },
  {
   "cell_type": "code",
   "execution_count": 4,
   "metadata": {},
   "outputs": [
    {
     "data": {
      "text/plain": [
       "array(['a', 'b', 'c'], dtype='<U1')"
      ]
     },
     "execution_count": 4,
     "metadata": {},
     "output_type": "execute_result"
    }
   ],
   "source": [
    "np.array(['a', 'b', 'c'])"
   ]
  },
  {
   "cell_type": "code",
   "execution_count": 5,
   "metadata": {},
   "outputs": [
    {
     "data": {
      "text/plain": [
       "array([3.14, 4.  , 2.  , 3.  ])"
      ]
     },
     "execution_count": 5,
     "metadata": {},
     "output_type": "execute_result"
    }
   ],
   "source": [
    "np.array([3.14, 4, 2, 3]) # Если типы элементов не совпадают, NumPy попытается выполнить повышающее приведение типов"
   ]
  },
  {
   "cell_type": "code",
   "execution_count": 6,
   "metadata": {},
   "outputs": [
    {
     "data": {
      "text/plain": [
       "array([3, 4, 2, 3])"
      ]
     },
     "execution_count": 6,
     "metadata": {},
     "output_type": "execute_result"
    }
   ],
   "source": [
    "np.array([3.14, 4, 2, 3], dtype = int) # тип элементов можно указать явно"
   ]
  },
  {
   "cell_type": "code",
   "execution_count": 7,
   "metadata": {},
   "outputs": [
    {
     "data": {
      "text/plain": [
       "array([0, 0, 0, 0, 0, 0, 0, 0, 0, 0])"
      ]
     },
     "execution_count": 7,
     "metadata": {},
     "output_type": "execute_result"
    }
   ],
   "source": [
    "# Создаем массив целых чисел длины 10, заполненный нулями\n",
    "np.zeros(10, dtype=int)"
   ]
  },
  {
   "cell_type": "code",
   "execution_count": 8,
   "metadata": {},
   "outputs": [
    {
     "data": {
      "text/plain": [
       "array([[1., 1., 1., 1., 1.],\n",
       "       [1., 1., 1., 1., 1.],\n",
       "       [1., 1., 1., 1., 1.]])"
      ]
     },
     "execution_count": 8,
     "metadata": {},
     "output_type": "execute_result"
    }
   ],
   "source": [
    "# Создаем массив размером 3 x 5 значений с плавающей точкой, заполненный единицами\n",
    "np.ones((3, 5), dtype=float)"
   ]
  },
  {
   "cell_type": "code",
   "execution_count": 9,
   "metadata": {},
   "outputs": [
    {
     "data": {
      "text/plain": [
       "array([[3.14, 3.14, 3.14, 3.14, 3.14],\n",
       "       [3.14, 3.14, 3.14, 3.14, 3.14],\n",
       "       [3.14, 3.14, 3.14, 3.14, 3.14]])"
      ]
     },
     "execution_count": 9,
     "metadata": {},
     "output_type": "execute_result"
    }
   ],
   "source": [
    "# Создаем массив размером 3 x 5, заполненный значением 3.14\n",
    "np.full((3, 5), 3.14)"
   ]
  },
  {
   "cell_type": "code",
   "execution_count": 10,
   "metadata": {},
   "outputs": [
    {
     "data": {
      "text/plain": [
       "array([[1., 0., 0., 0., 0.],\n",
       "       [0., 1., 0., 0., 0.],\n",
       "       [0., 0., 1., 0., 0.],\n",
       "       [0., 0., 0., 1., 0.],\n",
       "       [0., 0., 0., 0., 1.]])"
      ]
     },
     "execution_count": 10,
     "metadata": {},
     "output_type": "execute_result"
    }
   ],
   "source": [
    "#  cоздаём единичную матрицу \n",
    "np.eye(5)"
   ]
  },
  {
   "cell_type": "code",
   "execution_count": 11,
   "metadata": {},
   "outputs": [
    {
     "data": {
      "text/plain": [
       "array([[1., 0., 0., 0.],\n",
       "       [0., 1., 0., 0.],\n",
       "       [0., 0., 1., 0.],\n",
       "       [0., 0., 0., 1.]])"
      ]
     },
     "execution_count": 11,
     "metadata": {},
     "output_type": "execute_result"
    }
   ],
   "source": [
    "np.identity(4)"
   ]
  },
  {
   "cell_type": "code",
   "execution_count": 12,
   "metadata": {},
   "outputs": [
    {
     "data": {
      "text/plain": [
       "array([[1, 0, 0, 0],\n",
       "       [0, 1, 0, 0],\n",
       "       [0, 0, 1, 0],\n",
       "       [0, 0, 0, 1]], dtype=int32)"
      ]
     },
     "execution_count": 12,
     "metadata": {},
     "output_type": "execute_result"
    }
   ],
   "source": [
    "np.identity(4, dtype='int32')"
   ]
  },
  {
   "cell_type": "markdown",
   "metadata": {},
   "source": [
    "Функция **empty()** создает массив без его заполнения. Исходное содержимое случайно и зависит от состояния памяти на момент создания массива (то есть от того мусора, что в ней хранится"
   ]
  },
  {
   "cell_type": "code",
   "execution_count": 13,
   "metadata": {},
   "outputs": [
    {
     "data": {
      "text/plain": [
       "array([[4.67296746e-307, 1.69121096e-306, 1.33510119e-307],\n",
       "       [6.23037317e-307, 2.22526399e-307, 6.23053614e-307],\n",
       "       [7.56592338e-307, 9.34588061e-307, 3.62651150e-317]])"
      ]
     },
     "execution_count": 13,
     "metadata": {},
     "output_type": "execute_result"
    }
   ],
   "source": [
    "np.empty((3, 3))"
   ]
  },
  {
   "cell_type": "code",
   "execution_count": 14,
   "metadata": {},
   "outputs": [
    {
     "data": {
      "text/plain": [
       "array([[4.67296746e-307, 1.69121096e-306, 1.33510119e-307],\n",
       "       [6.23037317e-307, 2.22526399e-307, 6.23053614e-307],\n",
       "       [7.56592338e-307, 9.34588061e-307, 3.62651150e-317]])"
      ]
     },
     "execution_count": 14,
     "metadata": {},
     "output_type": "execute_result"
    }
   ],
   "source": [
    "np.empty((3, 3))"
   ]
  },
  {
   "cell_type": "code",
   "execution_count": 15,
   "metadata": {},
   "outputs": [
    {
     "data": {
      "text/plain": [
       "array([ 0,  2,  4,  6,  8, 10, 12, 14, 16, 18])"
      ]
     },
     "execution_count": 15,
     "metadata": {},
     "output_type": "execute_result"
    }
   ],
   "source": [
    "# Создаем массив, заполненный линейной последовательностью, \n",
    "# начинающейся с 0 и заканчивающейся 20, с шагом 2 (аналогично встроенной функции range())\n",
    "np.arange(0, 20, 2)"
   ]
  },
  {
   "cell_type": "code",
   "execution_count": 16,
   "metadata": {},
   "outputs": [
    {
     "data": {
      "text/plain": [
       "array([0.  , 0.25, 0.5 , 0.75, 1.  ])"
      ]
     },
     "execution_count": 16,
     "metadata": {},
     "output_type": "execute_result"
    }
   ],
   "source": [
    "# Создаем массив из пяти значений, равномерно располагающихся между 0 и 1\n",
    "np.linspace(0, 1, 5)"
   ]
  },
  {
   "cell_type": "code",
   "execution_count": 17,
   "metadata": {},
   "outputs": [
    {
     "data": {
      "text/plain": [
       "array([[0.43728079, 0.70978049, 0.29512809],\n",
       "       [0.05126384, 0.5001231 , 0.38350865],\n",
       "       [0.29123919, 0.35736492, 0.90096652]])"
      ]
     },
     "execution_count": 17,
     "metadata": {},
     "output_type": "execute_result"
    }
   ],
   "source": [
    "# Создаем массив размером 3 x 3 равномерно распределенных случайных значения от 0 до 1\n",
    "np.random.random((3, 3))"
   ]
  },
  {
   "cell_type": "code",
   "execution_count": 18,
   "metadata": {},
   "outputs": [
    {
     "data": {
      "text/plain": [
       "array([[2, 1, 4],\n",
       "       [1, 6, 4],\n",
       "       [7, 2, 6]], dtype=int32)"
      ]
     },
     "execution_count": 18,
     "metadata": {},
     "output_type": "execute_result"
    }
   ],
   "source": [
    "# Создаем массив размером 3 x 3 случайных целых числа в промежутке [0, 10)\n",
    "np.random.randint(0, 10, (3, 3))"
   ]
  },
  {
   "cell_type": "markdown",
   "metadata": {},
   "source": [
    "#### Атрибуты массивов библиотеки NumPy"
   ]
  },
  {
   "cell_type": "code",
   "execution_count": 19,
   "metadata": {},
   "outputs": [],
   "source": [
    "np.random.seed(0) # начальное значение для целей воспроизводимости\n",
    "x1 = np.random.randint(20, size=6) # одномерный массив\n",
    "x2 = np.random.randint(30, size=(3, 4)) # двумерный массив\n",
    "x3 = np.random.randint(40, size=(3, 4, 5)) # трехмерный массив"
   ]
  },
  {
   "cell_type": "code",
   "execution_count": 20,
   "metadata": {},
   "outputs": [
    {
     "data": {
      "text/plain": [
       "array([12, 15,  0,  3,  3,  7], dtype=int32)"
      ]
     },
     "execution_count": 20,
     "metadata": {},
     "output_type": "execute_result"
    }
   ],
   "source": [
    "x1"
   ]
  },
  {
   "cell_type": "code",
   "execution_count": 21,
   "metadata": {},
   "outputs": [
    {
     "data": {
      "text/plain": [
       "array([[ 9, 19, 21, 18],\n",
       "       [ 4, 23,  6, 24],\n",
       "       [24, 12, 26,  1]], dtype=int32)"
      ]
     },
     "execution_count": 21,
     "metadata": {},
     "output_type": "execute_result"
    }
   ],
   "source": [
    "x2"
   ]
  },
  {
   "cell_type": "code",
   "execution_count": 22,
   "metadata": {},
   "outputs": [
    {
     "data": {
      "text/plain": [
       "array([[[38, 39, 23, 24, 17],\n",
       "        [37, 25, 13,  8,  9],\n",
       "        [20, 16,  5, 15,  0],\n",
       "        [18, 35, 24, 29, 19]],\n",
       "\n",
       "       [[19, 14, 39, 32,  1],\n",
       "        [ 9, 32, 31, 10, 23],\n",
       "        [35, 11, 28, 34,  0],\n",
       "        [ 0, 36,  5, 38, 17]],\n",
       "\n",
       "       [[15,  4, 31,  1,  1],\n",
       "        [39, 35, 38, 11, 18],\n",
       "        [27,  0, 14, 35, 12],\n",
       "        [20, 11,  4,  6,  4]]], dtype=int32)"
      ]
     },
     "execution_count": 22,
     "metadata": {},
     "output_type": "execute_result"
    }
   ],
   "source": [
    "x3"
   ]
  },
  {
   "cell_type": "markdown",
   "metadata": {},
   "source": [
    "Массивы – это объекты класса ndarray со своими атрибутами и методами"
   ]
  },
  {
   "cell_type": "code",
   "execution_count": 23,
   "metadata": {},
   "outputs": [
    {
     "name": "stdout",
     "output_type": "stream",
     "text": [
      "<class 'numpy.ndarray'> <class 'numpy.ndarray'> <class 'numpy.ndarray'>\n"
     ]
    }
   ],
   "source": [
    "print(type(x1), type(x2), type(x3))"
   ]
  },
  {
   "cell_type": "markdown",
   "metadata": {},
   "source": [
    "Рассмотрим некоторые атрибуты объектов ndarray:  \n",
    "- ndarray.ndim – размерность массива\n",
    "- ndarray.shape – размер каждого измерения  \n",
    "- ndarray.size – количество элементов массива  \n",
    "- ndarray.dtype – тип элементов массива (можно определить dtype, используя стандартные типы данных Python)"
   ]
  },
  {
   "cell_type": "markdown",
   "metadata": {},
   "source": [
    "Размерность массива – это количество индексов, необходимое для однозначной адресации элемента в рамках массива. По количеству используемых индексов массивы делятся на одномерные, двумерные, трехмерные и т.д."
   ]
  },
  {
   "cell_type": "code",
   "execution_count": 24,
   "metadata": {},
   "outputs": [
    {
     "name": "stdout",
     "output_type": "stream",
     "text": [
      "[12 15  0  3  3  7]\n",
      "x1 ndim:  1\n",
      "x1 shape: (6,)\n",
      "x1 size:  6\n",
      "x1 dtype:  int32\n"
     ]
    }
   ],
   "source": [
    "print(x1)\n",
    "print(\"x1 ndim: \", x1.ndim)\n",
    "print(\"x1 shape:\", x1.shape)\n",
    "print(\"x1 size: \", x1.size)\n",
    "print(\"x1 dtype: \", x1.dtype) # int 32 - целое число от –2 147 483 648 до 2 147 483 647"
   ]
  },
  {
   "cell_type": "code",
   "execution_count": 25,
   "metadata": {},
   "outputs": [
    {
     "name": "stdout",
     "output_type": "stream",
     "text": [
      "[[ 9 19 21 18]\n",
      " [ 4 23  6 24]\n",
      " [24 12 26  1]]\n",
      "x2 ndim:  2\n",
      "x2 shape: (3, 4)\n",
      "x2 size:  12\n",
      "x1 dtype:  int32\n"
     ]
    }
   ],
   "source": [
    "print(x2)\n",
    "print(\"x2 ndim: \", x2.ndim)\n",
    "print(\"x2 shape:\", x2.shape)\n",
    "print(\"x2 size: \", x2.size)\n",
    "print(\"x1 dtype: \", x2.dtype)"
   ]
  },
  {
   "cell_type": "code",
   "execution_count": 26,
   "metadata": {},
   "outputs": [
    {
     "name": "stdout",
     "output_type": "stream",
     "text": [
      "[[[38 39 23 24 17]\n",
      "  [37 25 13  8  9]\n",
      "  [20 16  5 15  0]\n",
      "  [18 35 24 29 19]]\n",
      "\n",
      " [[19 14 39 32  1]\n",
      "  [ 9 32 31 10 23]\n",
      "  [35 11 28 34  0]\n",
      "  [ 0 36  5 38 17]]\n",
      "\n",
      " [[15  4 31  1  1]\n",
      "  [39 35 38 11 18]\n",
      "  [27  0 14 35 12]\n",
      "  [20 11  4  6  4]]]\n",
      "x3 ndim:  3\n",
      "x3 shape: (3, 4, 5)\n",
      "x3 size:  60\n",
      "x1 dtype:  int32\n"
     ]
    }
   ],
   "source": [
    "print(x3)\n",
    "print(\"x3 ndim: \", x3.ndim)\n",
    "print(\"x3 shape:\", x3.shape)\n",
    "print(\"x3 size: \", x3.size)\n",
    "print(\"x1 dtype: \", x3.dtype)"
   ]
  },
  {
   "cell_type": "markdown",
   "metadata": {},
   "source": [
    "#### Индексация массивов"
   ]
  },
  {
   "cell_type": "code",
   "execution_count": 27,
   "metadata": {},
   "outputs": [],
   "source": [
    "np.random.seed(0) \n",
    "x1 = np.random.randint(10, size=6) # одномерный массив\n",
    "x2 = np.random.randint(10, size=(3, 4)) # двумерный массив\n",
    "x3 = np.random.randint(10, size=(3, 4, 5)) # трехмерный массив"
   ]
  },
  {
   "cell_type": "code",
   "execution_count": 28,
   "metadata": {},
   "outputs": [
    {
     "data": {
      "text/plain": [
       "array([5, 0, 3, 3, 7, 9], dtype=int32)"
      ]
     },
     "execution_count": 28,
     "metadata": {},
     "output_type": "execute_result"
    }
   ],
   "source": [
    "x1"
   ]
  },
  {
   "cell_type": "code",
   "execution_count": 29,
   "metadata": {},
   "outputs": [
    {
     "data": {
      "text/plain": [
       "np.int32(5)"
      ]
     },
     "execution_count": 29,
     "metadata": {},
     "output_type": "execute_result"
    }
   ],
   "source": [
    "x1[0]"
   ]
  },
  {
   "cell_type": "code",
   "execution_count": 30,
   "metadata": {},
   "outputs": [
    {
     "data": {
      "text/plain": [
       "np.int32(3)"
      ]
     },
     "execution_count": 30,
     "metadata": {},
     "output_type": "execute_result"
    }
   ],
   "source": [
    "x1[2]"
   ]
  },
  {
   "cell_type": "code",
   "execution_count": 31,
   "metadata": {},
   "outputs": [
    {
     "data": {
      "text/plain": [
       "np.int32(9)"
      ]
     },
     "execution_count": 31,
     "metadata": {},
     "output_type": "execute_result"
    }
   ],
   "source": [
    "x1[-1]"
   ]
  },
  {
   "cell_type": "code",
   "execution_count": 32,
   "metadata": {},
   "outputs": [
    {
     "data": {
      "text/plain": [
       "array([[3, 5, 2, 4],\n",
       "       [7, 6, 8, 8],\n",
       "       [1, 6, 7, 7]], dtype=int32)"
      ]
     },
     "execution_count": 32,
     "metadata": {},
     "output_type": "execute_result"
    }
   ],
   "source": [
    "x2"
   ]
  },
  {
   "cell_type": "code",
   "execution_count": 33,
   "metadata": {},
   "outputs": [
    {
     "data": {
      "text/plain": [
       "np.int32(3)"
      ]
     },
     "execution_count": 33,
     "metadata": {},
     "output_type": "execute_result"
    }
   ],
   "source": [
    "x2[0][0]\n",
    "x2[0,0]"
   ]
  },
  {
   "cell_type": "markdown",
   "metadata": {},
   "source": [
    "Обращаться к элементам в многомерном массиве можно с помощью разделенных запятыми кортежей индексов:"
   ]
  },
  {
   "cell_type": "code",
   "execution_count": 34,
   "metadata": {},
   "outputs": [
    {
     "data": {
      "text/plain": [
       "np.int32(4)"
      ]
     },
     "execution_count": 34,
     "metadata": {},
     "output_type": "execute_result"
    }
   ],
   "source": [
    "x2[0,-1]"
   ]
  },
  {
   "cell_type": "code",
   "execution_count": 35,
   "metadata": {},
   "outputs": [
    {
     "data": {
      "text/plain": [
       "array([[[8, 1, 5, 9, 8],\n",
       "        [9, 4, 3, 0, 3],\n",
       "        [5, 0, 2, 3, 8],\n",
       "        [1, 3, 3, 3, 7]],\n",
       "\n",
       "       [[0, 1, 9, 9, 0],\n",
       "        [4, 7, 3, 2, 7],\n",
       "        [2, 0, 0, 4, 5],\n",
       "        [5, 6, 8, 4, 1]],\n",
       "\n",
       "       [[4, 9, 8, 1, 1],\n",
       "        [7, 9, 9, 3, 6],\n",
       "        [7, 2, 0, 3, 5],\n",
       "        [9, 4, 4, 6, 4]]], dtype=int32)"
      ]
     },
     "execution_count": 35,
     "metadata": {},
     "output_type": "execute_result"
    }
   ],
   "source": [
    "x3"
   ]
  },
  {
   "cell_type": "code",
   "execution_count": 36,
   "metadata": {},
   "outputs": [
    {
     "data": {
      "text/plain": [
       "np.int32(8)"
      ]
     },
     "execution_count": 36,
     "metadata": {},
     "output_type": "execute_result"
    }
   ],
   "source": [
    "x3[0, 2, 4]"
   ]
  },
  {
   "cell_type": "markdown",
   "metadata": {},
   "source": [
    "Вы также можете изменить значения, используя любую из перечисленных выше индексных нотаций:"
   ]
  },
  {
   "cell_type": "code",
   "execution_count": 37,
   "metadata": {},
   "outputs": [
    {
     "data": {
      "text/plain": [
       "array([[3, 5, 2, 4],\n",
       "       [7, 6, 8, 8],\n",
       "       [1, 6, 7, 7]], dtype=int32)"
      ]
     },
     "execution_count": 37,
     "metadata": {},
     "output_type": "execute_result"
    }
   ],
   "source": [
    "x2"
   ]
  },
  {
   "cell_type": "code",
   "execution_count": 38,
   "metadata": {},
   "outputs": [],
   "source": [
    "x2[0, 0] = 10"
   ]
  },
  {
   "cell_type": "code",
   "execution_count": 39,
   "metadata": {},
   "outputs": [
    {
     "data": {
      "text/plain": [
       "array([[10,  5,  2,  4],\n",
       "       [ 7,  6,  8,  8],\n",
       "       [ 1,  6,  7,  7]], dtype=int32)"
      ]
     },
     "execution_count": 39,
     "metadata": {},
     "output_type": "execute_result"
    }
   ],
   "source": [
    "x2"
   ]
  },
  {
   "cell_type": "code",
   "execution_count": 40,
   "metadata": {},
   "outputs": [],
   "source": [
    "x2[-1][-1] = 100"
   ]
  },
  {
   "cell_type": "code",
   "execution_count": 41,
   "metadata": {},
   "outputs": [
    {
     "data": {
      "text/plain": [
       "array([[ 10,   5,   2,   4],\n",
       "       [  7,   6,   8,   8],\n",
       "       [  1,   6,   7, 100]], dtype=int32)"
      ]
     },
     "execution_count": 41,
     "metadata": {},
     "output_type": "execute_result"
    }
   ],
   "source": [
    "x2 "
   ]
  },
  {
   "cell_type": "code",
   "execution_count": 42,
   "metadata": {},
   "outputs": [
    {
     "data": {
      "text/plain": [
       "array([[ 10,   5,   2,   4],\n",
       "       [  7,   6,   8,   8],\n",
       "       [  1,   6,   7, 200]], dtype=int32)"
      ]
     },
     "execution_count": 42,
     "metadata": {},
     "output_type": "execute_result"
    }
   ],
   "source": [
    "x2[-1,-1] = 200\n",
    "x2"
   ]
  },
  {
   "cell_type": "markdown",
   "metadata": {},
   "source": [
    "#### \"Прихотливая\" индексация\""
   ]
  },
  {
   "cell_type": "markdown",
   "metadata": {},
   "source": [
    "Суть «прихотливой» индексации проста: она заключается в передаче массива индексов с целью одновременного доступа к нескольким элементам массива."
   ]
  },
  {
   "cell_type": "code",
   "execution_count": 43,
   "metadata": {},
   "outputs": [
    {
     "name": "stdout",
     "output_type": "stream",
     "text": [
      "[47  3 76 52 78 15 20 99 58 23]\n"
     ]
    }
   ],
   "source": [
    "x = np.random.randint(100, size=10)\n",
    "print(x)"
   ]
  },
  {
   "cell_type": "code",
   "execution_count": 44,
   "metadata": {},
   "outputs": [
    {
     "data": {
      "text/plain": [
       "[np.int32(52), np.int32(99), np.int32(78), np.int32(15)]"
      ]
     },
     "execution_count": 44,
     "metadata": {},
     "output_type": "execute_result"
    }
   ],
   "source": [
    "[x[3], x[7], x[4], x[5]]"
   ]
  },
  {
   "cell_type": "code",
   "execution_count": 45,
   "metadata": {},
   "outputs": [
    {
     "data": {
      "text/plain": [
       "array([52, 99, 78, 15], dtype=int32)"
      ]
     },
     "execution_count": 45,
     "metadata": {},
     "output_type": "execute_result"
    }
   ],
   "source": [
    "ind = [3, 7, 4, 5]\n",
    "x[ind]"
   ]
  },
  {
   "cell_type": "markdown",
   "metadata": {},
   "source": [
    "В случае «прихотливой» индексации форма результата отражает форму массивов индексов, а не форму индексируемого массива."
   ]
  },
  {
   "cell_type": "code",
   "execution_count": 46,
   "metadata": {},
   "outputs": [
    {
     "data": {
      "text/plain": [
       "array([[52, 99],\n",
       "       [78, 15]], dtype=int32)"
      ]
     },
     "execution_count": 46,
     "metadata": {},
     "output_type": "execute_result"
    }
   ],
   "source": [
    "ind = np.array([[3, 7],[4, 5]])\n",
    "x[ind]"
   ]
  },
  {
   "cell_type": "markdown",
   "metadata": {},
   "source": [
    "Аналогично тому, как «прихотливую» индексацию можно использовать для доступа к частям массива, ее можно применять и для модификации частей массива."
   ]
  },
  {
   "cell_type": "code",
   "execution_count": 47,
   "metadata": {},
   "outputs": [
    {
     "name": "stdout",
     "output_type": "stream",
     "text": [
      "[0 1 2 3 4 5 6 7 8 9]\n",
      "[ 0 99 99  3 99  5  6  7 99  9]\n"
     ]
    }
   ],
   "source": [
    "x = np.arange(10)\n",
    "print(x)\n",
    "i = np.array([2, 1, 8, 4])\n",
    "x[i] = 99\n",
    "print(x)"
   ]
  },
  {
   "cell_type": "markdown",
   "metadata": {},
   "source": [
    "#### Срезы массивов"
   ]
  },
  {
   "cell_type": "markdown",
   "metadata": {},
   "source": [
    "Для доступа к срезу массива x используйте синтаксис: **x[начало:конец:шаг]**. Если какие-либо из этих значений не указаны, значения применяются по умолчанию: начало = 0, конец = размер соответствующего измерения, шаг = 1."
   ]
  },
  {
   "cell_type": "code",
   "execution_count": 48,
   "metadata": {},
   "outputs": [
    {
     "data": {
      "text/plain": [
       "array([5, 0, 3, 3, 7, 9], dtype=int32)"
      ]
     },
     "execution_count": 48,
     "metadata": {},
     "output_type": "execute_result"
    }
   ],
   "source": [
    "x1"
   ]
  },
  {
   "cell_type": "code",
   "execution_count": 49,
   "metadata": {},
   "outputs": [
    {
     "data": {
      "text/plain": [
       "array([5, 0, 3, 3], dtype=int32)"
      ]
     },
     "execution_count": 49,
     "metadata": {},
     "output_type": "execute_result"
    }
   ],
   "source": [
    "x1[:4]"
   ]
  },
  {
   "cell_type": "code",
   "execution_count": 50,
   "metadata": {},
   "outputs": [
    {
     "data": {
      "text/plain": [
       "array([7, 9], dtype=int32)"
      ]
     },
     "execution_count": 50,
     "metadata": {},
     "output_type": "execute_result"
    }
   ],
   "source": [
    "x1[4:]"
   ]
  },
  {
   "cell_type": "code",
   "execution_count": 51,
   "metadata": {},
   "outputs": [
    {
     "data": {
      "text/plain": [
       "array([3, 7], dtype=int32)"
      ]
     },
     "execution_count": 51,
     "metadata": {},
     "output_type": "execute_result"
    }
   ],
   "source": [
    "x1[-3:-1]"
   ]
  },
  {
   "cell_type": "code",
   "execution_count": 52,
   "metadata": {},
   "outputs": [
    {
     "name": "stdout",
     "output_type": "stream",
     "text": [
      "[5 0 3 3 7 9]\n"
     ]
    },
    {
     "data": {
      "text/plain": [
       "array([9, 7, 3, 3, 0, 5], dtype=int32)"
      ]
     },
     "execution_count": 52,
     "metadata": {},
     "output_type": "execute_result"
    }
   ],
   "source": [
    "print(x1)\n",
    "x1[::-1]"
   ]
  },
  {
   "cell_type": "code",
   "execution_count": 53,
   "metadata": {},
   "outputs": [
    {
     "data": {
      "text/plain": [
       "array([[ 10,   5,   2,   4],\n",
       "       [  7,   6,   8,   8],\n",
       "       [  1,   6,   7, 200]], dtype=int32)"
      ]
     },
     "execution_count": 53,
     "metadata": {},
     "output_type": "execute_result"
    }
   ],
   "source": [
    "x2"
   ]
  },
  {
   "cell_type": "code",
   "execution_count": 54,
   "metadata": {},
   "outputs": [
    {
     "data": {
      "text/plain": [
       "array([[10,  5,  2,  4],\n",
       "       [ 7,  6,  8,  8]], dtype=int32)"
      ]
     },
     "execution_count": 54,
     "metadata": {},
     "output_type": "execute_result"
    }
   ],
   "source": [
    "x2[:2]"
   ]
  },
  {
   "cell_type": "markdown",
   "metadata": {},
   "source": [
    "Многомерные срезы задаются схожим образом, с разделением срезов запятыми. "
   ]
  },
  {
   "cell_type": "code",
   "execution_count": 55,
   "metadata": {},
   "outputs": [
    {
     "data": {
      "text/plain": [
       "array([[10,  5,  2],\n",
       "       [ 7,  6,  8]], dtype=int32)"
      ]
     },
     "execution_count": 55,
     "metadata": {},
     "output_type": "execute_result"
    }
   ],
   "source": [
    "x2[:2, :3] # две строки, три столбца"
   ]
  },
  {
   "cell_type": "code",
   "execution_count": 56,
   "metadata": {},
   "outputs": [
    {
     "data": {
      "text/plain": [
       "array([[  5,   2,   4],\n",
       "       [  6,   8,   8],\n",
       "       [  6,   7, 200]], dtype=int32)"
      ]
     },
     "execution_count": 56,
     "metadata": {},
     "output_type": "execute_result"
    }
   ],
   "source": [
    "x2[:, 1:] # Все строки и три последних столбца"
   ]
  },
  {
   "cell_type": "code",
   "execution_count": 57,
   "metadata": {},
   "outputs": [
    {
     "data": {
      "text/plain": [
       "array([[200,   7,   6,   1],\n",
       "       [  8,   8,   6,   7],\n",
       "       [  4,   2,   5,  10]], dtype=int32)"
      ]
     },
     "execution_count": 57,
     "metadata": {},
     "output_type": "execute_result"
    }
   ],
   "source": [
    "# Измерения подмассивов также можно «переворачивать»:\n",
    "x2[::-1, ::-1]"
   ]
  },
  {
   "cell_type": "code",
   "execution_count": 58,
   "metadata": {},
   "outputs": [
    {
     "data": {
      "text/plain": [
       "array([[[8, 1, 5, 9, 8],\n",
       "        [9, 4, 3, 0, 3],\n",
       "        [5, 0, 2, 3, 8],\n",
       "        [1, 3, 3, 3, 7]],\n",
       "\n",
       "       [[0, 1, 9, 9, 0],\n",
       "        [4, 7, 3, 2, 7],\n",
       "        [2, 0, 0, 4, 5],\n",
       "        [5, 6, 8, 4, 1]],\n",
       "\n",
       "       [[4, 9, 8, 1, 1],\n",
       "        [7, 9, 9, 3, 6],\n",
       "        [7, 2, 0, 3, 5],\n",
       "        [9, 4, 4, 6, 4]]], dtype=int32)"
      ]
     },
     "execution_count": 58,
     "metadata": {},
     "output_type": "execute_result"
    }
   ],
   "source": [
    "x3"
   ]
  },
  {
   "cell_type": "code",
   "execution_count": 59,
   "metadata": {},
   "outputs": [
    {
     "data": {
      "text/plain": [
       "array([[[8, 1, 5, 9, 8]],\n",
       "\n",
       "       [[0, 1, 9, 9, 0]]], dtype=int32)"
      ]
     },
     "execution_count": 59,
     "metadata": {},
     "output_type": "execute_result"
    }
   ],
   "source": [
    "x3[:2, :1] "
   ]
  },
  {
   "cell_type": "code",
   "execution_count": 60,
   "metadata": {},
   "outputs": [
    {
     "data": {
      "text/plain": [
       "array([[[1, 5, 9, 8]],\n",
       "\n",
       "       [[1, 9, 9, 0]]], dtype=int32)"
      ]
     },
     "execution_count": 60,
     "metadata": {},
     "output_type": "execute_result"
    }
   ],
   "source": [
    "x3[:2, :1, 1:]"
   ]
  },
  {
   "cell_type": "markdown",
   "metadata": {},
   "source": [
    "#### Еще один способ индексации - использование \"маски\""
   ]
  },
  {
   "cell_type": "code",
   "execution_count": 61,
   "metadata": {},
   "outputs": [
    {
     "name": "stdout",
     "output_type": "stream",
     "text": [
      "[15 13 21 21 16 17  5  9]\n",
      "[15 13 21  9]\n"
     ]
    }
   ],
   "source": [
    "x = np.random.randint(30, size=8)\n",
    "print(x)\n",
    "y = x[[True, True, False, True, False, False, False, True]]\n",
    "print(y)"
   ]
  },
  {
   "cell_type": "markdown",
   "metadata": {},
   "source": [
    "#### Ловушка!\n",
    "В списках срезы являются копиями, в массивах NumPy - представлениями"
   ]
  },
  {
   "cell_type": "code",
   "execution_count": 62,
   "metadata": {},
   "outputs": [
    {
     "data": {
      "text/plain": [
       "array([[ 10,   5,   2,   4],\n",
       "       [  7,   6,   8,   8],\n",
       "       [  1,   6,   7, 200]], dtype=int32)"
      ]
     },
     "execution_count": 62,
     "metadata": {},
     "output_type": "execute_result"
    }
   ],
   "source": [
    "x2"
   ]
  },
  {
   "cell_type": "code",
   "execution_count": 63,
   "metadata": {},
   "outputs": [
    {
     "name": "stdout",
     "output_type": "stream",
     "text": [
      "[[10  5]\n",
      " [ 7  6]]\n"
     ]
    }
   ],
   "source": [
    "# Извлечем из него двумерный подмассив 2 × 2:\n",
    "x2_sub = x2[:2, :2]\n",
    "print(x2_sub)"
   ]
  },
  {
   "cell_type": "code",
   "execution_count": 64,
   "metadata": {},
   "outputs": [
    {
     "data": {
      "text/plain": [
       "array([[99,  5],\n",
       "       [ 7,  6]], dtype=int32)"
      ]
     },
     "execution_count": 64,
     "metadata": {},
     "output_type": "execute_result"
    }
   ],
   "source": [
    "# Теперь, если мы изменим этот подмассив, то увидим, что исходный массив также поменялся! \n",
    "x2_sub[0, 0] = 99\n",
    "x2_sub"
   ]
  },
  {
   "cell_type": "code",
   "execution_count": 65,
   "metadata": {},
   "outputs": [
    {
     "data": {
      "text/plain": [
       "array([[ 99,   5,   2,   4],\n",
       "       [  7,   6,   8,   8],\n",
       "       [  1,   6,   7, 200]], dtype=int32)"
      ]
     },
     "execution_count": 65,
     "metadata": {},
     "output_type": "execute_result"
    }
   ],
   "source": [
    "x2"
   ]
  },
  {
   "cell_type": "code",
   "execution_count": 66,
   "metadata": {},
   "outputs": [
    {
     "data": {
      "text/plain": [
       "array([[ 99,   5,   2,   4],\n",
       "       [  7,   6,   8,   8],\n",
       "       [  1,   6,   7, 200]], dtype=int32)"
      ]
     },
     "execution_count": 66,
     "metadata": {},
     "output_type": "execute_result"
    }
   ],
   "source": [
    "# Создание копий\n",
    "x2"
   ]
  },
  {
   "cell_type": "code",
   "execution_count": 67,
   "metadata": {},
   "outputs": [],
   "source": [
    "x2_sub_copy = x2[:2, :2].copy()\n",
    "x2_sub_copy[0,0] = 55"
   ]
  },
  {
   "cell_type": "code",
   "execution_count": 68,
   "metadata": {},
   "outputs": [
    {
     "data": {
      "text/plain": [
       "array([[55,  5],\n",
       "       [ 7,  6]], dtype=int32)"
      ]
     },
     "execution_count": 68,
     "metadata": {},
     "output_type": "execute_result"
    }
   ],
   "source": [
    "x2_sub_copy"
   ]
  },
  {
   "cell_type": "code",
   "execution_count": 69,
   "metadata": {},
   "outputs": [
    {
     "data": {
      "text/plain": [
       "array([[ 99,   5,   2,   4],\n",
       "       [  7,   6,   8,   8],\n",
       "       [  1,   6,   7, 200]], dtype=int32)"
      ]
     },
     "execution_count": 69,
     "metadata": {},
     "output_type": "execute_result"
    }
   ],
   "source": [
    "x2"
   ]
  },
  {
   "cell_type": "markdown",
   "metadata": {},
   "source": [
    "#### Изменение формы массива"
   ]
  },
  {
   "cell_type": "code",
   "execution_count": 70,
   "metadata": {},
   "outputs": [
    {
     "data": {
      "text/plain": [
       "array([1, 2, 3, 4, 5, 6, 7, 8, 9])"
      ]
     },
     "execution_count": 70,
     "metadata": {},
     "output_type": "execute_result"
    }
   ],
   "source": [
    "grid = np.arange(1, 10)\n",
    "grid"
   ]
  },
  {
   "cell_type": "code",
   "execution_count": 71,
   "metadata": {},
   "outputs": [
    {
     "data": {
      "text/plain": [
       "array([[1, 2, 3],\n",
       "       [4, 5, 6],\n",
       "       [7, 8, 9]])"
      ]
     },
     "execution_count": 71,
     "metadata": {},
     "output_type": "execute_result"
    }
   ],
   "source": [
    "grid.reshape((3, 3))"
   ]
  },
  {
   "cell_type": "markdown",
   "metadata": {},
   "source": [
    "По одной из осей можно указывать значение -1, тогда библиотека сама определить количество элементов"
   ]
  },
  {
   "cell_type": "code",
   "execution_count": 72,
   "metadata": {},
   "outputs": [
    {
     "data": {
      "text/plain": [
       "array([[ 0,  1,  2,  3],\n",
       "       [ 4,  5,  6,  7],\n",
       "       [ 8,  9, 10, 11]])"
      ]
     },
     "execution_count": 72,
     "metadata": {},
     "output_type": "execute_result"
    }
   ],
   "source": [
    "a = np.arange(12)\n",
    "a.reshape(3,-1)"
   ]
  },
  {
   "cell_type": "code",
   "execution_count": 73,
   "metadata": {},
   "outputs": [
    {
     "data": {
      "text/plain": [
       "array([1, 1, 1, 1, 1, 1, 1, 1, 1, 1])"
      ]
     },
     "execution_count": 73,
     "metadata": {},
     "output_type": "execute_result"
    }
   ],
   "source": [
    "b = np.ones((2,5), dtype = int)\n",
    "b.reshape(-1)"
   ]
  },
  {
   "cell_type": "markdown",
   "metadata": {},
   "source": [
    "#### Слияние и разбиение массивов"
   ]
  },
  {
   "cell_type": "markdown",
   "metadata": {},
   "source": [
    "Слияние, или объединение, двух массивов в библиотеке NumPy выполняется в основном с помощью **np.concatenate**, **np.vstack** и **np.hstack**."
   ]
  },
  {
   "cell_type": "code",
   "execution_count": 74,
   "metadata": {},
   "outputs": [
    {
     "data": {
      "text/plain": [
       "array([1, 2, 3, 3, 2, 1])"
      ]
     },
     "execution_count": 74,
     "metadata": {},
     "output_type": "execute_result"
    }
   ],
   "source": [
    "x = np.array([1, 2, 3])\n",
    "y = np.array([3, 2, 1])\n",
    "np.concatenate([x, y]) # Слияние двух массивов"
   ]
  },
  {
   "cell_type": "code",
   "execution_count": 75,
   "metadata": {},
   "outputs": [
    {
     "name": "stdout",
     "output_type": "stream",
     "text": [
      "[ 1  2  3  3  2  1 99 99 99]\n"
     ]
    }
   ],
   "source": [
    "z = [99, 99, 99]\n",
    "print(np.concatenate([x, y, z])) # Слияние трех массивов"
   ]
  },
  {
   "cell_type": "code",
   "execution_count": 76,
   "metadata": {},
   "outputs": [],
   "source": [
    "grid = np.array([[1, 2, 3], [4, 5, 6]])"
   ]
  },
  {
   "cell_type": "code",
   "execution_count": 77,
   "metadata": {},
   "outputs": [
    {
     "data": {
      "text/plain": [
       "array([[1, 2, 3],\n",
       "       [4, 5, 6]])"
      ]
     },
     "execution_count": 77,
     "metadata": {},
     "output_type": "execute_result"
    }
   ],
   "source": [
    "grid"
   ]
  },
  {
   "cell_type": "markdown",
   "metadata": {},
   "source": [
    "Для объединения двумерных массивов можно также использовать np.concatenate:"
   ]
  },
  {
   "cell_type": "code",
   "execution_count": 78,
   "metadata": {},
   "outputs": [
    {
     "data": {
      "text/plain": [
       "array([[1, 2, 3],\n",
       "       [4, 5, 6],\n",
       "       [1, 2, 3],\n",
       "       [4, 5, 6]])"
      ]
     },
     "execution_count": 78,
     "metadata": {},
     "output_type": "execute_result"
    }
   ],
   "source": [
    "# Слияние по нулевой оси координат\n",
    "grid = np.array([[1, 2, 3], [4, 5, 6]])\n",
    "np.concatenate([grid, grid])"
   ]
  },
  {
   "cell_type": "code",
   "execution_count": 79,
   "metadata": {},
   "outputs": [
    {
     "data": {
      "text/plain": [
       "array([[1, 2, 3, 1, 2, 3],\n",
       "       [4, 5, 6, 4, 5, 6]])"
      ]
     },
     "execution_count": 79,
     "metadata": {},
     "output_type": "execute_result"
    }
   ],
   "source": [
    "# Слияние по первой оси координат \n",
    "np.concatenate([grid, grid], axis=1)"
   ]
  },
  {
   "cell_type": "markdown",
   "metadata": {},
   "source": [
    "Для работы с массивами с различающимися измерениями удобнее и понятнее использовать функции np.vstack (вертикальное объединение) и np.hstack (горизонтальное объединение):"
   ]
  },
  {
   "cell_type": "code",
   "execution_count": 80,
   "metadata": {},
   "outputs": [
    {
     "data": {
      "text/plain": [
       "array([[1, 2, 3],\n",
       "       [9, 8, 7],\n",
       "       [6, 5, 4]])"
      ]
     },
     "execution_count": 80,
     "metadata": {},
     "output_type": "execute_result"
    }
   ],
   "source": [
    "x = np.array([1, 2, 3])\n",
    "grid = np.array([[9, 8, 7], [6, 5, 4]])\n",
    "\n",
    "# Объединяет массивы по вертикали\n",
    "np.vstack([x, grid])"
   ]
  },
  {
   "cell_type": "code",
   "execution_count": 81,
   "metadata": {},
   "outputs": [
    {
     "data": {
      "text/plain": [
       "array([[ 9,  8,  7, 99],\n",
       "       [ 6,  5,  4, 99]])"
      ]
     },
     "execution_count": 81,
     "metadata": {},
     "output_type": "execute_result"
    }
   ],
   "source": [
    "y = np.array([[99],[99]])\n",
    "\n",
    "# Объединяет массивы по горизонтали\n",
    "np.hstack([grid, y])"
   ]
  },
  {
   "cell_type": "markdown",
   "metadata": {},
   "source": [
    "Противоположностью слияния является разбиение, выполняемое с помощью функций **np.split**, **np.hsplit** и **np.vsplit**."
   ]
  },
  {
   "cell_type": "code",
   "execution_count": 82,
   "metadata": {},
   "outputs": [
    {
     "name": "stdout",
     "output_type": "stream",
     "text": [
      "[1 2 3] [99 99] [ 3  2  1 12 15]\n"
     ]
    }
   ],
   "source": [
    "x = [1, 2, 3, 99, 99, 3, 2, 1, 12,15]\n",
    "x1, x2, x3 = np.split(x, [3, 5])\n",
    "print(x1, x2, x3)"
   ]
  },
  {
   "cell_type": "code",
   "execution_count": 83,
   "metadata": {},
   "outputs": [
    {
     "data": {
      "text/plain": [
       "array([[ 0,  1,  2,  3],\n",
       "       [ 4,  5,  6,  7],\n",
       "       [ 8,  9, 10, 11],\n",
       "       [12, 13, 14, 15]])"
      ]
     },
     "execution_count": 83,
     "metadata": {},
     "output_type": "execute_result"
    }
   ],
   "source": [
    "grid = np.arange(16).reshape((4, 4))\n",
    "grid"
   ]
  },
  {
   "cell_type": "code",
   "execution_count": 84,
   "metadata": {},
   "outputs": [
    {
     "name": "stdout",
     "output_type": "stream",
     "text": [
      "[[0 1 2 3]\n",
      " [4 5 6 7]]\n",
      "[[ 8  9 10 11]\n",
      " [12 13 14 15]]\n"
     ]
    }
   ],
   "source": [
    "upper, lower = np.vsplit(grid, [2]) # Второй массив начнется со строки, имеющей индекс 2 в исходном массиве\n",
    "print(upper)\n",
    "print(lower)"
   ]
  },
  {
   "cell_type": "code",
   "execution_count": 85,
   "metadata": {},
   "outputs": [
    {
     "name": "stdout",
     "output_type": "stream",
     "text": [
      "[[ 0  1]\n",
      " [ 4  5]\n",
      " [ 8  9]\n",
      " [12 13]]\n",
      "[[ 2  3]\n",
      " [ 6  7]\n",
      " [10 11]\n",
      " [14 15]]\n"
     ]
    }
   ],
   "source": [
    "left, right = np.hsplit(grid, [2])\n",
    "print(left)\n",
    "print(right)"
   ]
  },
  {
   "cell_type": "markdown",
   "metadata": {},
   "source": [
    "#### Выполнение вычислений над массивами библиотеки NumPy"
   ]
  },
  {
   "cell_type": "markdown",
   "metadata": {},
   "source": [
    "#### Арифметические функции"
   ]
  },
  {
   "attachments": {
    "image.png": {
     "image/png": "[encoded data removed]"
    }
   },
   "cell_type": "markdown",
   "metadata": {},
   "source": [
    "![image.png](attachment:image.png)"
   ]
  },
  {
   "cell_type": "markdown",
   "metadata": {},
   "source": [
    "Арифметические функции выполняются поэлементно"
   ]
  },
  {
   "cell_type": "code",
   "execution_count": 86,
   "metadata": {},
   "outputs": [
    {
     "name": "stdout",
     "output_type": "stream",
     "text": [
      "x = [0 1 2 3]\n",
      "x + 5 = [5 6 7 8]\n",
      "x - 5 = [-5 -4 -3 -2]\n",
      "x * 2 = [0 2 4 6]\n",
      "x / 2 = [0.  0.5 1.  1.5]\n",
      "x // 2 = [0 0 1 1]\n"
     ]
    }
   ],
   "source": [
    "x = np.arange(4)\n",
    "print(\"x =\", x)\n",
    "print(\"x + 5 =\", x + 5)\n",
    "print(\"x - 5 =\", x - 5)\n",
    "print(\"x * 2 =\", x * 2)\n",
    "print(\"x / 2 =\", x / 2)\n",
    "print(\"x // 2 =\", x // 2) # деление с округлением в меньшую сторону"
   ]
  },
  {
   "cell_type": "markdown",
   "metadata": {},
   "source": [
    "Отличие от списков: оператор * для списков будет означать дублирование, а для массивов - поэлементное умножение"
   ]
  },
  {
   "cell_type": "code",
   "execution_count": 87,
   "metadata": {},
   "outputs": [
    {
     "name": "stdout",
     "output_type": "stream",
     "text": [
      "[0 3 6 9]\n",
      "[0, 1, 2, 3, 0, 1, 2, 3, 0, 1, 2, 3]\n"
     ]
    }
   ],
   "source": [
    "x = np.arange(4) #массив\n",
    "y = [0,1,2,3]   # список\n",
    "print(x*3)\n",
    "print(y*3)"
   ]
  },
  {
   "cell_type": "code",
   "execution_count": 88,
   "metadata": {},
   "outputs": [
    {
     "name": "stdout",
     "output_type": "stream",
     "text": [
      "-x =  [ 0 -1 -2 -3]\n",
      "x ** 2 =  [0 1 4 9]\n",
      "x % 2 =  [0 1 0 1]\n"
     ]
    }
   ],
   "source": [
    "print(\"-x = \", -x) # унарная универсальная функция для операции изменения знака\n",
    "print(\"x ** 2 = \", x ** 2)\n",
    "print(\"x % 2 = \", x % 2)"
   ]
  },
  {
   "cell_type": "code",
   "execution_count": 89,
   "metadata": {},
   "outputs": [
    {
     "name": "stdout",
     "output_type": "stream",
     "text": [
      "[0 1 2 3]\n"
     ]
    },
    {
     "data": {
      "text/plain": [
       "array([-1.  , -2.25, -4.  , -6.25])"
      ]
     },
     "execution_count": 89,
     "metadata": {},
     "output_type": "execute_result"
    }
   ],
   "source": [
    "print(x)\n",
    "-(0.5*x + 1) ** 2"
   ]
  },
  {
   "cell_type": "code",
   "execution_count": 90,
   "metadata": {},
   "outputs": [
    {
     "data": {
      "text/plain": [
       "array([ 1. ,  0.5,  0. , -0.5])"
      ]
     },
     "execution_count": 90,
     "metadata": {},
     "output_type": "execute_result"
    }
   ],
   "source": [
    "-0.5*x + 1 ** 2"
   ]
  },
  {
   "cell_type": "code",
   "execution_count": 91,
   "metadata": {},
   "outputs": [
    {
     "data": {
      "text/plain": [
       "array([2, 3, 4, 5])"
      ]
     },
     "execution_count": 91,
     "metadata": {},
     "output_type": "execute_result"
    }
   ],
   "source": [
    "np.add(x, 2) # функция эквивалентная оператору +"
   ]
  },
  {
   "cell_type": "code",
   "execution_count": 92,
   "metadata": {},
   "outputs": [
    {
     "name": "stdout",
     "output_type": "stream",
     "text": [
      "[1 2 3 4]\n",
      "[4 5 6 7]\n"
     ]
    }
   ],
   "source": [
    "x1 = np.arange(1,5)\n",
    "x2 = np.arange(4,8)\n",
    "print(x1)\n",
    "print(x2)"
   ]
  },
  {
   "cell_type": "markdown",
   "metadata": {},
   "source": [
    "Арифметические функции можно применять к двум массивам.\n",
    "Отличие от списков: для списков оператор + будет склеивать их, а для массивов - поэлементно складывать"
   ]
  },
  {
   "cell_type": "code",
   "execution_count": 93,
   "metadata": {},
   "outputs": [
    {
     "data": {
      "text/plain": [
       "array([ 5,  7,  9, 11])"
      ]
     },
     "execution_count": 93,
     "metadata": {},
     "output_type": "execute_result"
    }
   ],
   "source": [
    "x1 + x2"
   ]
  },
  {
   "cell_type": "code",
   "execution_count": 94,
   "metadata": {},
   "outputs": [
    {
     "name": "stdout",
     "output_type": "stream",
     "text": [
      "[1 2 3 4]\n",
      "[4 5 6 7]\n"
     ]
    },
    {
     "data": {
      "text/plain": [
       "array([ 4, 10, 18, 28])"
      ]
     },
     "execution_count": 94,
     "metadata": {},
     "output_type": "execute_result"
    }
   ],
   "source": [
    "print(x1)\n",
    "print(x2)\n",
    "x1*x2"
   ]
  },
  {
   "cell_type": "code",
   "execution_count": 95,
   "metadata": {},
   "outputs": [
    {
     "data": {
      "text/plain": [
       "array([2, 1, 0, 1, 2])"
      ]
     },
     "execution_count": 95,
     "metadata": {},
     "output_type": "execute_result"
    }
   ],
   "source": [
    "x = np.array([-2, -1, 0, 1, 2])\n",
    "abs(x) # встроенная функция для вычисления абсолютного значения"
   ]
  },
  {
   "cell_type": "code",
   "execution_count": 96,
   "metadata": {},
   "outputs": [
    {
     "data": {
      "text/plain": [
       "array([1, 2, 3, 4])"
      ]
     },
     "execution_count": 96,
     "metadata": {},
     "output_type": "execute_result"
    }
   ],
   "source": [
    "np.abs(x1) # функция для вычисления абсолютного значения из numpy"
   ]
  },
  {
   "cell_type": "code",
   "execution_count": 97,
   "metadata": {},
   "outputs": [
    {
     "name": "stdout",
     "output_type": "stream",
     "text": [
      "[[ 0.54030231 -0.41614684]\n",
      " [-0.9899925  -0.65364362]]\n"
     ]
    }
   ],
   "source": [
    "a = np.array([[1, 2], [3, 4]])\n",
    "print(np.cos(a))"
   ]
  },
  {
   "cell_type": "markdown",
   "metadata": {},
   "source": [
    "Помимо привычных функций есть также функции, специфические для матриц\n",
    "Например, матрицы можно умножать как матрицы, для этого используется функция dot\n",
    "То есть оператор * - это поэлементное умножение, а dot - это матричное умножение"
   ]
  },
  {
   "cell_type": "code",
   "execution_count": 98,
   "metadata": {},
   "outputs": [
    {
     "name": "stdout",
     "output_type": "stream",
     "text": [
      "[ 4 10  0]\n",
      "14\n"
     ]
    }
   ],
   "source": [
    "x = np.array([1,2,3])\n",
    "y = np.array([4,5,0])\n",
    "print(x * y)\n",
    "print(np.dot(x,y))"
   ]
  },
  {
   "cell_type": "markdown",
   "metadata": {},
   "source": [
    "#### Транслирование"
   ]
  },
  {
   "cell_type": "markdown",
   "metadata": {},
   "source": [
    "Транслирование представляет собой набор правил по применению бинарных универсальных функций (сложение, вычитание, умножение и т. д.) к массивам различного размера."
   ]
  },
  {
   "cell_type": "code",
   "execution_count": 99,
   "metadata": {},
   "outputs": [
    {
     "data": {
      "text/plain": [
       "array([5, 6, 7])"
      ]
     },
     "execution_count": 99,
     "metadata": {},
     "output_type": "execute_result"
    }
   ],
   "source": [
    "a = np.array([0, 1, 2])\n",
    "b = np.array([5, 5, 5])\n",
    "a + b"
   ]
  },
  {
   "cell_type": "markdown",
   "metadata": {},
   "source": [
    "Транслирование в библиотеке NumPy следует строгому набору правил, определяющему взаимодействие двух массивов.  \n",
    "- Правило 1: если размерность двух массивов отличается, форма массива с меньшей размерностью дополняется  с ведущей (левой) стороны.  \n",
    "- Правило 2: если форма двух массивов не совпадает в каком-то измерении, массив с формой, равной 1 в данном измерении, растягивается вплоть до соответствия форме другого массива.  \n",
    "- Правило 3: если в каком-либо измерении размеры массивов различаются и ни один не равен 1, генерируется ошибка."
   ]
  },
  {
   "cell_type": "code",
   "execution_count": 100,
   "metadata": {},
   "outputs": [],
   "source": [
    "M = np.ones((2, 3))\n",
    "a = np.arange(3)"
   ]
  },
  {
   "cell_type": "code",
   "execution_count": 101,
   "metadata": {},
   "outputs": [
    {
     "name": "stdout",
     "output_type": "stream",
     "text": [
      "[[1. 1. 1.]\n",
      " [1. 1. 1.]]\n",
      "[0 1 2]\n"
     ]
    }
   ],
   "source": [
    "print(M)\n",
    "print(a)"
   ]
  },
  {
   "cell_type": "code",
   "execution_count": 102,
   "metadata": {},
   "outputs": [
    {
     "name": "stdout",
     "output_type": "stream",
     "text": [
      "(2, 3)\n",
      "(3,)\n"
     ]
    }
   ],
   "source": [
    "print(M.shape)\n",
    "print(a.shape)"
   ]
  },
  {
   "cell_type": "code",
   "execution_count": 103,
   "metadata": {},
   "outputs": [
    {
     "data": {
      "text/plain": [
       "array([[1., 2., 3.],\n",
       "       [1., 2., 3.]])"
      ]
     },
     "execution_count": 103,
     "metadata": {},
     "output_type": "execute_result"
    }
   ],
   "source": [
    "M + a"
   ]
  },
  {
   "cell_type": "code",
   "execution_count": 104,
   "metadata": {},
   "outputs": [],
   "source": [
    "M = np.ones((3, 2))\n",
    "a = np.arange(3)"
   ]
  },
  {
   "cell_type": "code",
   "execution_count": 105,
   "metadata": {},
   "outputs": [
    {
     "data": {
      "text/plain": [
       "array([[1., 1.],\n",
       "       [1., 1.],\n",
       "       [1., 1.]])"
      ]
     },
     "execution_count": 105,
     "metadata": {},
     "output_type": "execute_result"
    }
   ],
   "source": [
    "M"
   ]
  },
  {
   "cell_type": "code",
   "execution_count": 106,
   "metadata": {},
   "outputs": [
    {
     "data": {
      "text/plain": [
       "array([0, 1, 2])"
      ]
     },
     "execution_count": 106,
     "metadata": {},
     "output_type": "execute_result"
    }
   ],
   "source": [
    "a"
   ]
  },
  {
   "cell_type": "code",
   "execution_count": 107,
   "metadata": {},
   "outputs": [
    {
     "name": "stdout",
     "output_type": "stream",
     "text": [
      "(3, 2)\n",
      "(3,)\n"
     ]
    }
   ],
   "source": [
    "print(M.shape)\n",
    "print(a.shape)"
   ]
  },
  {
   "cell_type": "code",
   "execution_count": 108,
   "metadata": {},
   "outputs": [
    {
     "ename": "ValueError",
     "evalue": "operands could not be broadcast together with shapes (3,2) (3,) ",
     "output_type": "error",
     "traceback": [
      "\u001b[1;31m---------------------------------------------------------------------------\u001b[0m",
      "\u001b[1;31mValueError\u001b[0m                                Traceback (most recent call last)",
      "Cell \u001b[1;32mIn[108], line 1\u001b[0m\n\u001b[1;32m----> 1\u001b[0m \u001b[43mM\u001b[49m\u001b[43m \u001b[49m\u001b[38;5;241;43m+\u001b[39;49m\u001b[43m \u001b[49m\u001b[43ma\u001b[49m\n",
      "\u001b[1;31mValueError\u001b[0m: operands could not be broadcast together with shapes (3,2) (3,) "
     ]
    }
   ],
   "source": [
    "M + a"
   ]
  },
  {
   "cell_type": "markdown",
   "metadata": {},
   "source": [
    "#### Некоторые полезные возможности универсальных функций"
   ]
  },
  {
   "cell_type": "code",
   "execution_count": 95,
   "metadata": {},
   "outputs": [
    {
     "name": "stdout",
     "output_type": "stream",
     "text": [
      "[ 0. 10. 20. 30. 40.]\n"
     ]
    }
   ],
   "source": [
    "# Указание массива для вывода результата\n",
    "x = np.arange(5)\n",
    "y = np.empty(5)\n",
    "np.multiply(x, 10, out=y)\n",
    "print(y)"
   ]
  },
  {
   "cell_type": "code",
   "execution_count": 96,
   "metadata": {},
   "outputs": [
    {
     "data": {
      "text/plain": [
       "15"
      ]
     },
     "execution_count": 96,
     "metadata": {},
     "output_type": "execute_result"
    }
   ],
   "source": [
    "# Вызов метода reduce для универсальной функции add возвращает сумму всех элементов массива\n",
    "x = np.arange(1, 6)\n",
    "np.add.reduce(x)"
   ]
  },
  {
   "cell_type": "code",
   "execution_count": 97,
   "metadata": {},
   "outputs": [
    {
     "data": {
      "text/plain": [
       "120"
      ]
     },
     "execution_count": 97,
     "metadata": {},
     "output_type": "execute_result"
    }
   ],
   "source": [
    "# Вызов метода reduce для универсальной функции multiply возвращает произведение всех элементов массива:\n",
    "np.multiply.reduce(x)"
   ]
  },
  {
   "cell_type": "code",
   "execution_count": 98,
   "metadata": {},
   "outputs": [
    {
     "data": {
      "text/plain": [
       "array([  1,   2,   6,  24, 120], dtype=int32)"
      ]
     },
     "execution_count": 98,
     "metadata": {},
     "output_type": "execute_result"
    }
   ],
   "source": [
    "np.multiply.accumulate(x) # Промежуточные результаты вычислений"
   ]
  },
  {
   "cell_type": "markdown",
   "metadata": {},
   "source": [
    "#### Агрегирование"
   ]
  },
  {
   "attachments": {
    "image.png": {
     "image/png": "[encoded data removed]"
    }
   },
   "cell_type": "markdown",
   "metadata": {},
   "source": [
    "![image.png](attachment:image.png)"
   ]
  },
  {
   "cell_type": "code",
   "execution_count": 31,
   "metadata": {},
   "outputs": [],
   "source": [
    "big_array = np.random.rand(1000000)"
   ]
  },
  {
   "cell_type": "code",
   "execution_count": 32,
   "metadata": {},
   "outputs": [
    {
     "data": {
      "text/plain": [
       "np.float64(500384.2859071105)"
      ]
     },
     "execution_count": 32,
     "metadata": {},
     "output_type": "execute_result"
    }
   ],
   "source": [
    "np.sum(big_array)"
   ]
  },
  {
   "cell_type": "code",
   "execution_count": 33,
   "metadata": {},
   "outputs": [
    {
     "name": "stdout",
     "output_type": "stream",
     "text": [
      "0.5003842859071105\n",
      "0.5008027984742046\n"
     ]
    }
   ],
   "source": [
    "print(np.mean(big_array))\n",
    "print(np.median(big_array))"
   ]
  },
  {
   "cell_type": "code",
   "execution_count": 34,
   "metadata": {},
   "outputs": [
    {
     "data": {
      "text/plain": [
       "np.float64(0.9999997207656334)"
      ]
     },
     "execution_count": 34,
     "metadata": {},
     "output_type": "execute_result"
    }
   ],
   "source": [
    "big_array.max()"
   ]
  },
  {
   "cell_type": "code",
   "execution_count": 35,
   "metadata": {},
   "outputs": [],
   "source": [
    "arr = np.array([1, 2, np.nan, 1])"
   ]
  },
  {
   "cell_type": "code",
   "execution_count": 104,
   "metadata": {},
   "outputs": [
    {
     "data": {
      "text/plain": [
       "1.3333333333333333"
      ]
     },
     "execution_count": 104,
     "metadata": {},
     "output_type": "execute_result"
    }
   ],
   "source": [
    "np.nanmean(arr)"
   ]
  },
  {
   "cell_type": "code",
   "execution_count": 36,
   "metadata": {},
   "outputs": [
    {
     "data": {
      "text/plain": [
       "np.float64(nan)"
      ]
     },
     "execution_count": 36,
     "metadata": {},
     "output_type": "execute_result"
    }
   ],
   "source": [
    "np.mean(arr)"
   ]
  },
  {
   "cell_type": "code",
   "execution_count": 37,
   "metadata": {},
   "outputs": [
    {
     "name": "stdout",
     "output_type": "stream",
     "text": [
      "[[0.42514208 0.71292416 0.55421576 0.86620197]\n",
      " [0.47824869 0.58507748 0.02246908 0.22009112]\n",
      " [0.61587571 0.34670024 0.64474497 0.97834075]]\n"
     ]
    }
   ],
   "source": [
    "M = np.random.random((3, 4))\n",
    "print(M)"
   ]
  },
  {
   "cell_type": "code",
   "execution_count": 39,
   "metadata": {},
   "outputs": [
    {
     "data": {
      "text/plain": [
       "array([1.51926647, 1.64470187, 1.22142981, 2.06463385])"
      ]
     },
     "execution_count": 39,
     "metadata": {},
     "output_type": "execute_result"
    }
   ],
   "source": [
    "M.sum(axis=0) # Сумма по столбцам"
   ]
  },
  {
   "cell_type": "code",
   "execution_count": 40,
   "metadata": {},
   "outputs": [
    {
     "data": {
      "text/plain": [
       "array([2.55848398, 1.30588636, 2.58566167])"
      ]
     },
     "execution_count": 40,
     "metadata": {},
     "output_type": "execute_result"
    }
   ],
   "source": [
    "M.sum(axis=1) # Сумма по строкам"
   ]
  },
  {
   "cell_type": "code",
   "execution_count": 38,
   "metadata": {},
   "outputs": [
    {
     "data": {
      "text/plain": [
       "np.float64(6.450032004875681)"
      ]
     },
     "execution_count": 38,
     "metadata": {},
     "output_type": "execute_result"
    }
   ],
   "source": [
    "M.sum()"
   ]
  },
  {
   "cell_type": "markdown",
   "metadata": {},
   "source": [
    "#### Сравнение"
   ]
  },
  {
   "attachments": {
    "image.png": {
     "image/png": "[encoded data removed]"
    }
   },
   "cell_type": "markdown",
   "metadata": {},
   "source": [
    "![image.png](attachment:image.png)"
   ]
  },
  {
   "cell_type": "code",
   "execution_count": 44,
   "metadata": {},
   "outputs": [
    {
     "data": {
      "text/plain": [
       "array([7, 3, 5, 4, 6], dtype=int32)"
      ]
     },
     "execution_count": 44,
     "metadata": {},
     "output_type": "execute_result"
    }
   ],
   "source": [
    "x = np.array([1, 2, 3, 4, 5])\n",
    "y = np.random.randint(10, size=5)\n",
    "y"
   ]
  },
  {
   "cell_type": "code",
   "execution_count": 45,
   "metadata": {},
   "outputs": [
    {
     "data": {
      "text/plain": [
       "array([ True,  True,  True, False,  True])"
      ]
     },
     "execution_count": 45,
     "metadata": {},
     "output_type": "execute_result"
    }
   ],
   "source": [
    "x < y"
   ]
  },
  {
   "cell_type": "code",
   "execution_count": 46,
   "metadata": {},
   "outputs": [
    {
     "data": {
      "text/plain": [
       "array([[4, 7, 8, 9],\n",
       "       [8, 3, 4, 7],\n",
       "       [1, 0, 5, 0]], dtype=int32)"
      ]
     },
     "execution_count": 46,
     "metadata": {},
     "output_type": "execute_result"
    }
   ],
   "source": [
    "x = np.random.randint(10, size=(3, 4))\n",
    "x"
   ]
  },
  {
   "cell_type": "code",
   "execution_count": 47,
   "metadata": {},
   "outputs": [
    {
     "data": {
      "text/plain": [
       "array([[ True, False, False, False],\n",
       "       [False,  True,  True, False],\n",
       "       [ True,  True,  True,  True]])"
      ]
     },
     "execution_count": 47,
     "metadata": {},
     "output_type": "execute_result"
    }
   ],
   "source": [
    "x < 6"
   ]
  },
  {
   "cell_type": "markdown",
   "metadata": {},
   "source": [
    "Для подсчета количества элементов True в булевом массиве удобно использовать функцию np.count_nonzero:"
   ]
  },
  {
   "cell_type": "code",
   "execution_count": 41,
   "metadata": {},
   "outputs": [
    {
     "data": {
      "text/plain": [
       "8"
      ]
     },
     "execution_count": 41,
     "metadata": {},
     "output_type": "execute_result"
    }
   ],
   "source": [
    "np.count_nonzero(x < 6)"
   ]
  },
  {
   "cell_type": "code",
   "execution_count": 48,
   "metadata": {},
   "outputs": [
    {
     "data": {
      "text/plain": [
       "array([1, 2, 4])"
      ]
     },
     "execution_count": 48,
     "metadata": {},
     "output_type": "execute_result"
    }
   ],
   "source": [
    "# Сколько значений меньше 6 содержится в каждой строке?\n",
    "np.sum(x < 6, axis=1)"
   ]
  },
  {
   "cell_type": "code",
   "execution_count": 23,
   "metadata": {},
   "outputs": [
    {
     "data": {
      "text/plain": [
       "array([3, 2, 3, 3])"
      ]
     },
     "execution_count": 23,
     "metadata": {},
     "output_type": "execute_result"
    }
   ],
   "source": [
    "# Сколько значений меньше 6 содержится в каждой строке?\n",
    "np.sum(x < 6, axis=0)"
   ]
  },
  {
   "cell_type": "markdown",
   "metadata": {},
   "source": [
    "Если вам необходимо быстро проверить, существует ли хоть одно истинное значение, или все ли значения истинны, можно воспользоваться функциями np.any() и np.all():"
   ]
  },
  {
   "cell_type": "code",
   "execution_count": 50,
   "metadata": {},
   "outputs": [
    {
     "data": {
      "text/plain": [
       "np.False_"
      ]
     },
     "execution_count": 50,
     "metadata": {},
     "output_type": "execute_result"
    }
   ],
   "source": [
    "# Имеются ли в массиве какие-либо значения, превышающие 8?\n",
    "np.all(x > 8)"
   ]
  },
  {
   "cell_type": "code",
   "execution_count": 43,
   "metadata": {},
   "outputs": [
    {
     "data": {
      "text/plain": [
       "array([False,  True, False])"
      ]
     },
     "execution_count": 43,
     "metadata": {},
     "output_type": "execute_result"
    }
   ],
   "source": [
    "# Все ли значения в каждой строке меньше 8?\n",
    "np.all(x < 8, axis=1)"
   ]
  },
  {
   "cell_type": "markdown",
   "metadata": {},
   "source": [
    "Чтобы выбрать нужные значения из массива, достаточно просто проиндексировать исходный массив x по этому булеву массиву. Такое действие носит название операции наложения маски или **маскирования**:"
   ]
  },
  {
   "cell_type": "code",
   "execution_count": 44,
   "metadata": {},
   "outputs": [
    {
     "data": {
      "text/plain": [
       "array([[0, 6, 9, 4],\n",
       "       [3, 1, 3, 5],\n",
       "       [9, 2, 2, 7]], dtype=int32)"
      ]
     },
     "execution_count": 44,
     "metadata": {},
     "output_type": "execute_result"
    }
   ],
   "source": [
    "x"
   ]
  },
  {
   "cell_type": "code",
   "execution_count": 45,
   "metadata": {},
   "outputs": [
    {
     "data": {
      "text/plain": [
       "array([[ True, False, False,  True],\n",
       "       [ True,  True,  True, False],\n",
       "       [False,  True,  True, False]])"
      ]
     },
     "execution_count": 45,
     "metadata": {},
     "output_type": "execute_result"
    }
   ],
   "source": [
    "x < 5"
   ]
  },
  {
   "cell_type": "code",
   "execution_count": 52,
   "metadata": {},
   "outputs": [
    {
     "data": {
      "text/plain": [
       "array([4, 3, 4, 1, 0, 0], dtype=int32)"
      ]
     },
     "execution_count": 52,
     "metadata": {},
     "output_type": "execute_result"
    }
   ],
   "source": [
    "x[x < 5] # наложение маски"
   ]
  },
  {
   "cell_type": "code",
   "execution_count": 53,
   "metadata": {},
   "outputs": [
    {
     "data": {
      "text/plain": [
       "array([5, 6, 7])"
      ]
     },
     "execution_count": 53,
     "metadata": {},
     "output_type": "execute_result"
    }
   ],
   "source": [
    "# При создании булева выражения с заданным массивом следует использовать операторы & и |, а не операции and или or:\n",
    "x = np.arange(10)\n",
    "x[(x > 4) & (x < 8)]"
   ]
  },
  {
   "cell_type": "markdown",
   "metadata": {},
   "source": [
    "#### Структурированные массивы"
   ]
  },
  {
   "cell_type": "code",
   "execution_count": 7,
   "metadata": {},
   "outputs": [],
   "source": [
    "name = ['Alice', 'Bob', 'Cathy', 'Doug']\n",
    "age = [25, 45, 37, 19]\n",
    "weight = [55.0, 85.5, 68.0, 61.5]"
   ]
  },
  {
   "cell_type": "code",
   "execution_count": 8,
   "metadata": {},
   "outputs": [
    {
     "name": "stdout",
     "output_type": "stream",
     "text": [
      "[('', 0, 0.) ('', 0, 0.) ('', 0, 0.) ('', 0, 0.)]\n",
      "[('name', '<U10'), ('age', '<i4'), ('weight', '<f8')]\n"
     ]
    }
   ],
   "source": [
    "# Используем для структурированного массива составной тип данных \n",
    "data = np.zeros(4, dtype={'names':('name', 'age', 'weight'),'formats':('U10', 'i4', 'f8')})\n",
    "# ([('name', 'U10'), ('age', 'i8'), ('weight', 'f4')]\n",
    "print(data)\n",
    "print(data.dtype)"
   ]
  },
  {
   "cell_type": "code",
   "execution_count": 9,
   "metadata": {},
   "outputs": [
    {
     "name": "stdout",
     "output_type": "stream",
     "text": [
      "[('Alice', 25, 55. ) ('Bob', 45, 85.5) ('Cathy', 37, 68. )\n",
      " ('Doug', 19, 61.5)]\n"
     ]
    }
   ],
   "source": [
    "data['name'] = name\n",
    "data['age'] = age\n",
    "data['weight'] = weight\n",
    "print(data)"
   ]
  },
  {
   "cell_type": "code",
   "execution_count": 10,
   "metadata": {},
   "outputs": [
    {
     "data": {
      "text/plain": [
       "array([25, 45, 37, 19], dtype=int32)"
      ]
     },
     "execution_count": 10,
     "metadata": {},
     "output_type": "execute_result"
    }
   ],
   "source": [
    "# Извлечь возраст\n",
    "data['age']"
   ]
  },
  {
   "cell_type": "code",
   "execution_count": 11,
   "metadata": {},
   "outputs": [
    {
     "data": {
      "text/plain": [
       "np.void(('Alice', 25, 55.0), dtype=[('name', '<U10'), ('age', '<i4'), ('weight', '<f8')])"
      ]
     },
     "execution_count": 11,
     "metadata": {},
     "output_type": "execute_result"
    }
   ],
   "source": [
    "# Извлечь первую строку данных\n",
    "data[0]"
   ]
  },
  {
   "cell_type": "code",
   "execution_count": 12,
   "metadata": {},
   "outputs": [
    {
     "data": {
      "text/plain": [
       "np.str_('Doug')"
      ]
     },
     "execution_count": 12,
     "metadata": {},
     "output_type": "execute_result"
    }
   ],
   "source": [
    "# Извлечь имя из последней строки\n",
    "data[-1]['name']"
   ]
  },
  {
   "cell_type": "code",
   "execution_count": 12,
   "metadata": {},
   "outputs": [
    {
     "data": {
      "text/plain": [
       "array(['Alice', 'Doug'], dtype='<U10')"
      ]
     },
     "execution_count": 12,
     "metadata": {},
     "output_type": "execute_result"
    }
   ],
   "source": [
    "# Извлечь имена людей с возрастом менее 30\n",
    "data[data['age'] < 30]['name']"
   ]
  },
  {
   "cell_type": "markdown",
   "metadata": {},
   "source": [
    "#### Массивы записей"
   ]
  },
  {
   "cell_type": "code",
   "execution_count": 14,
   "metadata": {},
   "outputs": [
    {
     "data": {
      "text/plain": [
       "rec.array([('Alice', 25, 55. ), ('Bob', 45, 85.5), ('Cathy', 37, 68. ),\n",
       "           ('Doug', 19, 61.5)],\n",
       "          dtype=[('name', '<U10'), ('age', '<i4'), ('weight', '<f8')])"
      ]
     },
     "execution_count": 14,
     "metadata": {},
     "output_type": "execute_result"
    }
   ],
   "source": [
    "data_rec = data.view(np.recarray) # view - создает новый вид массива с такими же данными\n",
    "data_rec"
   ]
  },
  {
   "cell_type": "code",
   "execution_count": 15,
   "metadata": {},
   "outputs": [
    {
     "data": {
      "text/plain": [
       "array([25, 45, 37, 19], dtype=int32)"
      ]
     },
     "execution_count": 15,
     "metadata": {},
     "output_type": "execute_result"
    }
   ],
   "source": [
    "data_rec.age"
   ]
  },
  {
   "cell_type": "markdown",
   "metadata": {},
   "source": [
    "#### Пример использования"
   ]
  },
  {
   "cell_type": "code",
   "execution_count": 22,
   "metadata": {
    "scrolled": true
   },
   "outputs": [
    {
     "name": "stdout",
     "output_type": "stream",
     "text": [
      "Defaulting to user installation because normal site-packages is not writeable\n",
      "Collecting scipy\n",
      "  Downloading scipy-1.14.1-cp312-cp312-win_amd64.whl.metadata (60 kB)\n",
      "Requirement already satisfied: numpy<2.3,>=1.23.5 in c:\\users\\gora\\appdata\\roaming\\python\\python312\\site-packages (from scipy) (2.1.1)\n",
      "Downloading scipy-1.14.1-cp312-cp312-win_amd64.whl (44.5 MB)\n",
      "   ---------------------------------------- 0.0/44.5 MB ? eta -:--:--\n",
      "   ---------------------------------------- 0.0/44.5 MB ? eta -:--:--\n",
      "   ---------------------------------------- 0.3/44.5 MB ? eta -:--:--\n",
      "   ---------------------------------------- 0.3/44.5 MB ? eta -:--:--\n",
      "    --------------------------------------- 0.8/44.5 MB 987.4 kB/s eta 0:00:45\n",
      "   - -------------------------------------- 1.3/44.5 MB 1.4 MB/s eta 0:00:31\n",
      "   - -------------------------------------- 1.3/44.5 MB 1.4 MB/s eta 0:00:31\n",
      "   - -------------------------------------- 1.6/44.5 MB 1.2 MB/s eta 0:00:36\n",
      "   - -------------------------------------- 2.1/44.5 MB 1.3 MB/s eta 0:00:33\n",
      "   -- ------------------------------------- 2.4/44.5 MB 1.4 MB/s eta 0:00:30\n",
      "   -- ------------------------------------- 2.6/44.5 MB 1.3 MB/s eta 0:00:32\n",
      "   -- ------------------------------------- 2.9/44.5 MB 1.3 MB/s eta 0:00:32\n",
      "   -- ------------------------------------- 2.9/44.5 MB 1.3 MB/s eta 0:00:32\n",
      "   -- ------------------------------------- 3.1/44.5 MB 1.2 MB/s eta 0:00:36\n",
      "   --- ------------------------------------ 3.4/44.5 MB 1.2 MB/s eta 0:00:34\n",
      "   --- ------------------------------------ 3.4/44.5 MB 1.2 MB/s eta 0:00:34\n",
      "   --- ------------------------------------ 3.7/44.5 MB 1.1 MB/s eta 0:00:37\n",
      "   --- ------------------------------------ 3.7/44.5 MB 1.1 MB/s eta 0:00:37\n",
      "   --- ------------------------------------ 3.7/44.5 MB 1.1 MB/s eta 0:00:37\n",
      "   --- ------------------------------------ 3.9/44.5 MB 1.0 MB/s eta 0:00:41\n",
      "   --- ------------------------------------ 3.9/44.5 MB 1.0 MB/s eta 0:00:41\n",
      "   --- ------------------------------------ 4.2/44.5 MB 968.0 kB/s eta 0:00:42\n",
      "   ---- ----------------------------------- 4.5/44.5 MB 986.9 kB/s eta 0:00:41\n",
      "   ---- ----------------------------------- 4.7/44.5 MB 997.2 kB/s eta 0:00:40\n",
      "   ---- ----------------------------------- 5.0/44.5 MB 1.0 MB/s eta 0:00:40\n",
      "   ---- ----------------------------------- 5.2/44.5 MB 1.0 MB/s eta 0:00:40\n",
      "   ---- ----------------------------------- 5.5/44.5 MB 1.0 MB/s eta 0:00:39\n",
      "   ----- ---------------------------------- 5.8/44.5 MB 1.0 MB/s eta 0:00:38\n",
      "   ----- ---------------------------------- 6.0/44.5 MB 1.0 MB/s eta 0:00:37\n",
      "   ----- ---------------------------------- 6.3/44.5 MB 1.1 MB/s eta 0:00:37\n",
      "   ----- ---------------------------------- 6.6/44.5 MB 1.1 MB/s eta 0:00:36\n",
      "   ------ --------------------------------- 6.8/44.5 MB 1.1 MB/s eta 0:00:35\n",
      "   ------ --------------------------------- 7.1/44.5 MB 1.1 MB/s eta 0:00:35\n",
      "   ------ --------------------------------- 7.6/44.5 MB 1.1 MB/s eta 0:00:34\n",
      "   ------ --------------------------------- 7.6/44.5 MB 1.1 MB/s eta 0:00:34\n",
      "   ------- -------------------------------- 8.1/44.5 MB 1.1 MB/s eta 0:00:33\n",
      "   ------- -------------------------------- 8.4/44.5 MB 1.1 MB/s eta 0:00:32\n",
      "   ------- -------------------------------- 8.7/44.5 MB 1.1 MB/s eta 0:00:32\n",
      "   -------- ------------------------------- 8.9/44.5 MB 1.1 MB/s eta 0:00:32\n",
      "   -------- ------------------------------- 8.9/44.5 MB 1.1 MB/s eta 0:00:32\n",
      "   -------- ------------------------------- 9.2/44.5 MB 1.1 MB/s eta 0:00:32\n",
      "   -------- ------------------------------- 9.4/44.5 MB 1.1 MB/s eta 0:00:32\n",
      "   -------- ------------------------------- 9.4/44.5 MB 1.1 MB/s eta 0:00:32\n",
      "   -------- ------------------------------- 9.4/44.5 MB 1.1 MB/s eta 0:00:32\n",
      "   -------- ------------------------------- 9.7/44.5 MB 1.1 MB/s eta 0:00:33\n",
      "   -------- ------------------------------- 10.0/44.5 MB 1.1 MB/s eta 0:00:33\n",
      "   --------- ------------------------------ 10.2/44.5 MB 1.1 MB/s eta 0:00:32\n",
      "   --------- ------------------------------ 10.5/44.5 MB 1.1 MB/s eta 0:00:32\n",
      "   --------- ------------------------------ 10.7/44.5 MB 1.1 MB/s eta 0:00:31\n",
      "   ---------- ----------------------------- 11.3/44.5 MB 1.1 MB/s eta 0:00:31\n",
      "   ---------- ----------------------------- 11.5/44.5 MB 1.1 MB/s eta 0:00:30\n",
      "   ---------- ----------------------------- 11.8/44.5 MB 1.1 MB/s eta 0:00:30\n",
      "   ----------- ---------------------------- 12.3/44.5 MB 1.1 MB/s eta 0:00:29\n",
      "   ----------- ---------------------------- 12.6/44.5 MB 1.1 MB/s eta 0:00:28\n",
      "   ----------- ---------------------------- 12.8/44.5 MB 1.1 MB/s eta 0:00:28\n",
      "   ----------- ---------------------------- 12.8/44.5 MB 1.1 MB/s eta 0:00:28\n",
      "   ----------- ---------------------------- 13.1/44.5 MB 1.1 MB/s eta 0:00:28\n",
      "   ------------ --------------------------- 13.4/44.5 MB 1.1 MB/s eta 0:00:28\n",
      "   ------------ --------------------------- 13.6/44.5 MB 1.1 MB/s eta 0:00:28\n",
      "   ------------ --------------------------- 13.9/44.5 MB 1.1 MB/s eta 0:00:27\n",
      "   ------------ --------------------------- 14.4/44.5 MB 1.2 MB/s eta 0:00:27\n",
      "   ------------- -------------------------- 14.7/44.5 MB 1.2 MB/s eta 0:00:26\n",
      "   ------------- -------------------------- 14.9/44.5 MB 1.2 MB/s eta 0:00:26\n",
      "   ------------- -------------------------- 15.2/44.5 MB 1.2 MB/s eta 0:00:26\n",
      "   -------------- ------------------------- 15.7/44.5 MB 1.2 MB/s eta 0:00:25\n",
      "   -------------- ------------------------- 16.0/44.5 MB 1.2 MB/s eta 0:00:25\n",
      "   -------------- ------------------------- 16.3/44.5 MB 1.2 MB/s eta 0:00:24\n",
      "   -------------- ------------------------- 16.5/44.5 MB 1.2 MB/s eta 0:00:24\n",
      "   --------------- ------------------------ 16.8/44.5 MB 1.2 MB/s eta 0:00:24\n",
      "   --------------- ------------------------ 17.3/44.5 MB 1.2 MB/s eta 0:00:23\n",
      "   --------------- ------------------------ 17.3/44.5 MB 1.2 MB/s eta 0:00:23\n",
      "   --------------- ------------------------ 17.6/44.5 MB 1.2 MB/s eta 0:00:23\n",
      "   ---------------- ----------------------- 18.1/44.5 MB 1.2 MB/s eta 0:00:23\n",
      "   ---------------- ----------------------- 18.4/44.5 MB 1.2 MB/s eta 0:00:22\n",
      "   ---------------- ----------------------- 18.6/44.5 MB 1.2 MB/s eta 0:00:22\n",
      "   ----------------- ---------------------- 19.1/44.5 MB 1.2 MB/s eta 0:00:21\n",
      "   ----------------- ---------------------- 19.4/44.5 MB 1.2 MB/s eta 0:00:21\n",
      "   ----------------- ---------------------- 19.7/44.5 MB 1.2 MB/s eta 0:00:21\n",
      "   ------------------ --------------------- 20.2/44.5 MB 1.2 MB/s eta 0:00:20\n",
      "   ------------------ --------------------- 20.4/44.5 MB 1.2 MB/s eta 0:00:20\n",
      "   ------------------ --------------------- 20.7/44.5 MB 1.2 MB/s eta 0:00:20\n",
      "   ------------------- -------------------- 21.2/44.5 MB 1.2 MB/s eta 0:00:19\n",
      "   ------------------- -------------------- 21.5/44.5 MB 1.3 MB/s eta 0:00:19\n",
      "   ------------------- -------------------- 21.8/44.5 MB 1.3 MB/s eta 0:00:19\n",
      "   ------------------- -------------------- 22.0/44.5 MB 1.3 MB/s eta 0:00:18\n",
      "   -------------------- ------------------- 22.3/44.5 MB 1.2 MB/s eta 0:00:18\n",
      "   -------------------- ------------------- 22.5/44.5 MB 1.2 MB/s eta 0:00:18\n",
      "   -------------------- ------------------- 22.8/44.5 MB 1.2 MB/s eta 0:00:18\n",
      "   -------------------- ------------------- 23.1/44.5 MB 1.2 MB/s eta 0:00:18\n",
      "   -------------------- ------------------- 23.3/44.5 MB 1.3 MB/s eta 0:00:17\n",
      "   --------------------- ------------------ 23.6/44.5 MB 1.3 MB/s eta 0:00:17\n",
      "   --------------------- ------------------ 23.9/44.5 MB 1.2 MB/s eta 0:00:17\n",
      "   --------------------- ------------------ 24.1/44.5 MB 1.2 MB/s eta 0:00:17\n",
      "   ---------------------- ----------------- 24.6/44.5 MB 1.3 MB/s eta 0:00:16\n",
      "   ---------------------- ----------------- 24.9/44.5 MB 1.3 MB/s eta 0:00:16\n",
      "   ---------------------- ----------------- 25.2/44.5 MB 1.3 MB/s eta 0:00:16\n",
      "   ----------------------- ---------------- 25.7/44.5 MB 1.3 MB/s eta 0:00:15\n",
      "   ----------------------- ---------------- 26.0/44.5 MB 1.3 MB/s eta 0:00:15\n",
      "   ----------------------- ---------------- 26.2/44.5 MB 1.3 MB/s eta 0:00:15\n",
      "   ----------------------- ---------------- 26.5/44.5 MB 1.3 MB/s eta 0:00:15\n",
      "   ------------------------ --------------- 26.7/44.5 MB 1.3 MB/s eta 0:00:14\n",
      "   ------------------------ --------------- 27.3/44.5 MB 1.3 MB/s eta 0:00:14\n",
      "   ------------------------ --------------- 27.5/44.5 MB 1.3 MB/s eta 0:00:14\n",
      "   ------------------------ --------------- 27.5/44.5 MB 1.3 MB/s eta 0:00:14\n",
      "   ------------------------ --------------- 27.8/44.5 MB 1.3 MB/s eta 0:00:14\n",
      "   ------------------------- -------------- 28.0/44.5 MB 1.3 MB/s eta 0:00:13\n",
      "   ------------------------- -------------- 28.3/44.5 MB 1.3 MB/s eta 0:00:13\n",
      "   ------------------------- -------------- 28.3/44.5 MB 1.3 MB/s eta 0:00:13\n",
      "   ------------------------- -------------- 28.6/44.5 MB 1.3 MB/s eta 0:00:13\n",
      "   ------------------------- -------------- 28.8/44.5 MB 1.3 MB/s eta 0:00:13\n",
      "   -------------------------- ------------- 29.1/44.5 MB 1.3 MB/s eta 0:00:13\n",
      "   -------------------------- ------------- 29.4/44.5 MB 1.3 MB/s eta 0:00:13\n",
      "   -------------------------- ------------- 29.9/44.5 MB 1.3 MB/s eta 0:00:12\n",
      "   --------------------------- ------------ 30.1/44.5 MB 1.3 MB/s eta 0:00:12\n",
      "   --------------------------- ------------ 30.4/44.5 MB 1.3 MB/s eta 0:00:12\n",
      "   --------------------------- ------------ 30.7/44.5 MB 1.3 MB/s eta 0:00:11\n",
      "   --------------------------- ------------ 30.9/44.5 MB 1.3 MB/s eta 0:00:11\n",
      "   ---------------------------- ----------- 31.2/44.5 MB 1.3 MB/s eta 0:00:11\n",
      "   ---------------------------- ----------- 31.2/44.5 MB 1.3 MB/s eta 0:00:11\n",
      "   ---------------------------- ----------- 31.2/44.5 MB 1.3 MB/s eta 0:00:11\n",
      "   ---------------------------- ----------- 31.2/44.5 MB 1.3 MB/s eta 0:00:11\n",
      "   ---------------------------- ----------- 31.2/44.5 MB 1.3 MB/s eta 0:00:11\n",
      "   ----------------------------- ---------- 32.5/44.5 MB 1.3 MB/s eta 0:00:10\n",
      "   ----------------------------- ---------- 32.8/44.5 MB 1.3 MB/s eta 0:00:10\n",
      "   ----------------------------- ---------- 33.0/44.5 MB 1.3 MB/s eta 0:00:10\n",
      "   ----------------------------- ---------- 33.3/44.5 MB 1.3 MB/s eta 0:00:09\n",
      "   ------------------------------ --------- 33.6/44.5 MB 1.3 MB/s eta 0:00:09\n",
      "   ------------------------------ --------- 33.8/44.5 MB 1.3 MB/s eta 0:00:09\n",
      "   ------------------------------ --------- 34.1/44.5 MB 1.3 MB/s eta 0:00:09\n",
      "   ------------------------------ --------- 34.3/44.5 MB 1.3 MB/s eta 0:00:09\n",
      "   ------------------------------- -------- 34.9/44.5 MB 1.3 MB/s eta 0:00:08\n",
      "   ------------------------------- -------- 35.1/44.5 MB 1.3 MB/s eta 0:00:08\n",
      "   ------------------------------- -------- 35.4/44.5 MB 1.3 MB/s eta 0:00:08\n",
      "   -------------------------------- ------- 35.7/44.5 MB 1.3 MB/s eta 0:00:07\n",
      "   -------------------------------- ------- 35.9/44.5 MB 1.3 MB/s eta 0:00:07\n",
      "   -------------------------------- ------- 36.2/44.5 MB 1.3 MB/s eta 0:00:07\n",
      "   -------------------------------- ------- 36.2/44.5 MB 1.3 MB/s eta 0:00:07\n",
      "   -------------------------------- ------- 36.4/44.5 MB 1.3 MB/s eta 0:00:07\n",
      "   -------------------------------- ------- 36.4/44.5 MB 1.3 MB/s eta 0:00:07\n",
      "   -------------------------------- ------- 36.7/44.5 MB 1.3 MB/s eta 0:00:07\n",
      "   --------------------------------- ------ 37.0/44.5 MB 1.3 MB/s eta 0:00:07\n",
      "   --------------------------------- ------ 37.5/44.5 MB 1.3 MB/s eta 0:00:06\n",
      "   --------------------------------- ------ 37.7/44.5 MB 1.3 MB/s eta 0:00:06\n",
      "   --------------------------------- ------ 37.7/44.5 MB 1.3 MB/s eta 0:00:06\n",
      "   ---------------------------------- ----- 38.3/44.5 MB 1.3 MB/s eta 0:00:05\n",
      "   ---------------------------------- ----- 38.5/44.5 MB 1.3 MB/s eta 0:00:05\n",
      "   ---------------------------------- ----- 38.8/44.5 MB 1.3 MB/s eta 0:00:05\n",
      "   ----------------------------------- ---- 39.1/44.5 MB 1.3 MB/s eta 0:00:05\n",
      "   ----------------------------------- ---- 39.3/44.5 MB 1.3 MB/s eta 0:00:05\n",
      "   ----------------------------------- ---- 39.8/44.5 MB 1.3 MB/s eta 0:00:04\n",
      "   ------------------------------------ --- 40.1/44.5 MB 1.3 MB/s eta 0:00:04\n",
      "   ------------------------------------ --- 40.4/44.5 MB 1.3 MB/s eta 0:00:04\n",
      "   ------------------------------------ --- 40.6/44.5 MB 1.3 MB/s eta 0:00:04\n",
      "   ------------------------------------ --- 40.9/44.5 MB 1.3 MB/s eta 0:00:03\n",
      "   ------------------------------------ --- 41.2/44.5 MB 1.3 MB/s eta 0:00:03\n",
      "   ------------------------------------- -- 41.4/44.5 MB 1.3 MB/s eta 0:00:03\n",
      "   ------------------------------------- -- 41.7/44.5 MB 1.3 MB/s eta 0:00:03\n",
      "   ------------------------------------- -- 41.9/44.5 MB 1.3 MB/s eta 0:00:03\n",
      "   ------------------------------------- -- 42.2/44.5 MB 1.3 MB/s eta 0:00:02\n",
      "   -------------------------------------- - 42.5/44.5 MB 1.3 MB/s eta 0:00:02\n",
      "   -------------------------------------- - 42.7/44.5 MB 1.3 MB/s eta 0:00:02\n",
      "   -------------------------------------- - 42.7/44.5 MB 1.3 MB/s eta 0:00:02\n",
      "   -------------------------------------- - 43.0/44.5 MB 1.3 MB/s eta 0:00:02\n",
      "   -------------------------------------- - 43.3/44.5 MB 1.3 MB/s eta 0:00:01\n",
      "   ---------------------------------------  43.5/44.5 MB 1.3 MB/s eta 0:00:01\n",
      "   ---------------------------------------  43.5/44.5 MB 1.3 MB/s eta 0:00:01\n",
      "   ---------------------------------------  43.8/44.5 MB 1.3 MB/s eta 0:00:01\n",
      "   ---------------------------------------  43.8/44.5 MB 1.3 MB/s eta 0:00:01\n",
      "   ---------------------------------------  44.0/44.5 MB 1.3 MB/s eta 0:00:01\n",
      "   ---------------------------------------  44.0/44.5 MB 1.3 MB/s eta 0:00:01\n",
      "   ---------------------------------------  44.3/44.5 MB 1.3 MB/s eta 0:00:01\n",
      "   ---------------------------------------  44.3/44.5 MB 1.3 MB/s eta 0:00:01\n",
      "   ---------------------------------------  44.3/44.5 MB 1.3 MB/s eta 0:00:01\n",
      "   ---------------------------------------  44.3/44.5 MB 1.3 MB/s eta 0:00:01\n",
      "   ---------------------------------------  44.3/44.5 MB 1.3 MB/s eta 0:00:01\n",
      "   ---------------------------------------  44.3/44.5 MB 1.3 MB/s eta 0:00:01\n",
      "   ---------------------------------------  44.3/44.5 MB 1.3 MB/s eta 0:00:01\n",
      "   ---------------------------------------  44.3/44.5 MB 1.3 MB/s eta 0:00:01\n",
      "   ---------------------------------------  44.3/44.5 MB 1.3 MB/s eta 0:00:01\n",
      "   ---------------------------------------  44.3/44.5 MB 1.3 MB/s eta 0:00:01\n",
      "   ---------------------------------------  44.3/44.5 MB 1.3 MB/s eta 0:00:01\n",
      "   ---------------------------------------  44.3/44.5 MB 1.3 MB/s eta 0:00:01\n",
      "   ---------------------------------------  44.3/44.5 MB 1.3 MB/s eta 0:00:01\n",
      "   ---------------------------------------  44.3/44.5 MB 1.3 MB/s eta 0:00:01\n",
      "   ---------------------------------------  44.3/44.5 MB 1.3 MB/s eta 0:00:01\n",
      "   ---------------------------------------  44.3/44.5 MB 1.3 MB/s eta 0:00:01\n",
      "   ---------------------------------------  44.3/44.5 MB 1.3 MB/s eta 0:00:01\n",
      "   ---------------------------------------  44.3/44.5 MB 1.3 MB/s eta 0:00:01\n",
      "   ---------------------------------------  44.3/44.5 MB 1.3 MB/s eta 0:00:01\n",
      "   ---------------------------------------  44.3/44.5 MB 1.3 MB/s eta 0:00:01\n",
      "   ---------------------------------------  44.3/44.5 MB 1.3 MB/s eta 0:00:01\n",
      "   ---------------------------------------  44.3/44.5 MB 1.3 MB/s eta 0:00:01\n",
      "   ---------------------------------------  44.3/44.5 MB 1.3 MB/s eta 0:00:01\n",
      "   ---------------------------------------  44.3/44.5 MB 1.3 MB/s eta 0:00:01\n",
      "   ---------------------------------------  44.3/44.5 MB 1.3 MB/s eta 0:00:01\n",
      "   ---------------------------------------  44.3/44.5 MB 1.3 MB/s eta 0:00:01\n",
      "   ---------------------------------------  44.3/44.5 MB 1.3 MB/s eta 0:00:01\n",
      "   ---------------------------------------  44.3/44.5 MB 1.3 MB/s eta 0:00:01\n",
      "   ---------------------------------------  44.3/44.5 MB 1.3 MB/s eta 0:00:01\n",
      "   ---------------------------------------  44.3/44.5 MB 1.3 MB/s eta 0:00:01\n",
      "   ---------------------------------------  44.3/44.5 MB 1.3 MB/s eta 0:00:01\n",
      "   ---------------------------------------  44.3/44.5 MB 1.3 MB/s eta 0:00:01\n",
      "   ---------------------------------------  44.3/44.5 MB 1.3 MB/s eta 0:00:01\n",
      "   ---------------------------------------  44.3/44.5 MB 1.3 MB/s eta 0:00:01\n",
      "   ---------------------------------------  44.3/44.5 MB 1.3 MB/s eta 0:00:01\n",
      "   ---------------------------------------  44.3/44.5 MB 1.3 MB/s eta 0:00:01\n",
      "   ---------------------------------------  44.3/44.5 MB 1.3 MB/s eta 0:00:01\n",
      "   ---------------------------------------  44.3/44.5 MB 1.3 MB/s eta 0:00:01\n",
      "   ---------------------------------------  44.3/44.5 MB 1.3 MB/s eta 0:00:01\n",
      "   ---------------------------------------  44.3/44.5 MB 1.3 MB/s eta 0:00:01\n",
      "   ---------------------------------------- 44.5/44.5 MB 924.8 kB/s eta 0:00:00\n",
      "Installing collected packages: scipy\n",
      "Successfully installed scipy-1.14.1\n"
     ]
    }
   ],
   "source": [
    "!pip install scipy"
   ]
  },
  {
   "cell_type": "markdown",
   "metadata": {},
   "source": [
    "Решим задачу по прогнозированию значения\n",
    "Пусть нам даны результаты измерений некоторой величины y при разных значениях величины x\n",
    "Апроксимируем функцию y = f(x), чтобы можно было прогнозировать значение y при произвольном значении x"
   ]
  },
  {
   "cell_type": "code",
   "execution_count": 4,
   "metadata": {},
   "outputs": [],
   "source": [
    "x = np.array([0,0.5,1,1.5,2,2.5,3,3.5,4,4.5,5,5.5,6,6.5,7,7.5,8,8.5,9,9.5,10])\n",
    "y = np.array([-2.663310395,-4.68274953,-10.12467531,-14.96923895,-26.37259174,-34.98193023,-40.23548377,-41.22723735,-39.98797065,-29.77615696,-14.60973841,14.17671226,52.38882293,100.3259312,163.610427,246.4921286,340.5938107,454.8580595,592.2479707,746.0276509,927.2511417])\n"
   ]
  },
  {
   "cell_type": "code",
   "execution_count": 54,
   "metadata": {},
   "outputs": [
    {
     "name": "stdout",
     "output_type": "stream",
     "text": [
      "[[ 0.         -3.10933402]\n",
      " [ 0.1        -2.67543579]\n",
      " [ 0.2        -1.91561347]\n",
      " [ 0.3        -1.8724683 ]\n",
      " [ 0.4        -1.44978073]\n",
      " [ 0.5        -1.65169446]\n",
      " [ 0.6        -1.50167434]\n",
      " [ 0.7        -1.8403641 ]\n",
      " [ 0.8        -2.22473427]\n",
      " [ 0.9        -2.11385229]\n",
      " [ 1.         -2.01318967]\n",
      " [ 1.1        -1.854104  ]\n",
      " [ 1.2        -1.76492001]\n",
      " [ 1.3        -1.51000454]\n",
      " [ 1.4        -1.16801765]\n",
      " [ 1.5        -0.63345664]\n",
      " [ 1.6         0.41472258]\n",
      " [ 1.7         1.80201551]\n",
      " [ 1.8         3.45364427]\n",
      " [ 1.9         5.10340506]\n",
      " [ 2.          6.88403644]]\n"
     ]
    }
   ],
   "source": [
    "filename = 'dataXY.csv'\n",
    "dc = np.genfromtxt(filename, delimiter = ';')\n",
    "print(dc)"
   ]
  },
  {
   "cell_type": "code",
   "execution_count": 55,
   "metadata": {},
   "outputs": [
    {
     "name": "stdout",
     "output_type": "stream",
     "text": [
      "[0.  0.1 0.2 0.3 0.4 0.5 0.6 0.7 0.8 0.9 1.  1.1 1.2 1.3 1.4 1.5 1.6 1.7\n",
      " 1.8 1.9 2. ]\n",
      "[-3.10933402 -2.67543579 -1.91561347 -1.8724683  -1.44978073 -1.65169446\n",
      " -1.50167434 -1.8403641  -2.22473427 -2.11385229 -2.01318967 -1.854104\n",
      " -1.76492001 -1.51000454 -1.16801765 -0.63345664  0.41472258  1.80201551\n",
      "  3.45364427  5.10340506  6.88403644]\n"
     ]
    }
   ],
   "source": [
    "dct = np.transpose(dc)\n",
    "x = dct[0]\n",
    "y = dct[1]\n",
    "print(x)\n",
    "print(y)"
   ]
  },
  {
   "cell_type": "code",
   "execution_count": 56,
   "metadata": {},
   "outputs": [
    {
     "data": {
      "text/plain": [
       "(21,)"
      ]
     },
     "execution_count": 56,
     "metadata": {},
     "output_type": "execute_result"
    }
   ],
   "source": [
    "x.shape"
   ]
  },
  {
   "cell_type": "code",
   "execution_count": 57,
   "metadata": {},
   "outputs": [],
   "source": [
    "import matplotlib.pyplot as plt\n",
    "%matplotlib inline"
   ]
  },
  {
   "cell_type": "code",
   "execution_count": 59,
   "metadata": {},
   "outputs": [
    {
     "data": {
      "text/plain": [
       "[<matplotlib.lines.Line2D at 0x25e9f3c1b20>]"
      ]
     },
     "execution_count": 59,
     "metadata": {},
     "output_type": "execute_result"
    },
    {
     "data": {
      "image/png": "[encoded data removed]",
      "text/plain": [
       "<Figure size 640x480 with 1 Axes>"
      ]
     },
     "metadata": {},
     "output_type": "display_data"
    }
   ],
   "source": [
    "plt.plot(y[:15])"
   ]
  },
  {
   "cell_type": "code",
   "execution_count": 60,
   "metadata": {},
   "outputs": [
    {
     "name": "stdout",
     "output_type": "stream",
     "text": [
      "[[ 0.      0.0625  1.      5.0625 16.    ]\n",
      " [ 0.      0.125   1.      3.375   8.    ]\n",
      " [ 0.      0.25    1.      2.25    4.    ]\n",
      " [ 0.      0.5     1.      1.5     2.    ]\n",
      " [ 1.      1.      1.      1.      1.    ]]\n",
      "[[ 0.      0.      0.      0.      1.    ]\n",
      " [ 0.0625  0.125   0.25    0.5     1.    ]\n",
      " [ 1.      1.      1.      1.      1.    ]\n",
      " [ 5.0625  3.375   2.25    1.5     1.    ]\n",
      " [16.      8.      4.      2.      1.    ]]\n",
      "[-3.10933402 -1.65169446 -2.01318967 -0.63345664  6.88403644]\n"
     ]
    }
   ],
   "source": [
    "# y = ax^3+bx^2+cx+d\n",
    "ind = np.array([0,5,10,15,20])\n",
    "x_test = x[ind]\n",
    "y_test = y[ind]\n",
    "\n",
    "tmp = np.concatenate([x_test**4, x_test**3, x_test**2, x_test, np.ones(5)]).reshape(5,5)\n",
    "print(tmp)\n",
    "a = np.transpose(tmp)\n",
    "print(a)\n",
    "print(y_test)"
   ]
  },
  {
   "cell_type": "code",
   "execution_count": 61,
   "metadata": {},
   "outputs": [
    {
     "name": "stdout",
     "output_type": "stream",
     "text": [
      "[ 0.55744589  3.07481301 -9.22601935  6.6899048  -3.10933402]\n"
     ]
    }
   ],
   "source": [
    "from scipy.linalg import solve\n",
    "coef = solve(a,y_test)\n",
    "print(coef)"
   ]
  },
  {
   "cell_type": "code",
   "execution_count": 68,
   "metadata": {},
   "outputs": [
    {
     "name": "stdout",
     "output_type": "stream",
     "text": [
      "[-3.10933402 -2.52947317 -2.11490341 -1.84516906 -1.69847655 -1.65169446\n",
      " -1.68035351 -1.75864652 -1.85942846 -1.95421644 -2.01318967 -2.00518951\n",
      " -1.89771945 -1.6569451  -1.24769421 -0.63345664  0.22361558  1.36270833\n",
      "  2.82434534  4.65038822  6.88403644]\n",
      "[-3.10933402 -2.67543579 -1.91561347 -1.8724683  -1.44978073 -1.65169446\n",
      " -1.50167434 -1.8403641  -2.22473427 -2.11385229 -2.01318967 -1.854104\n",
      " -1.76492001 -1.51000454 -1.16801765 -0.63345664  0.41472258  1.80201551\n",
      "  3.45364427  5.10340506  6.88403644]\n"
     ]
    }
   ],
   "source": [
    "# y2 = np.array([coef[0]*i**3+coef[1]*i**2+coef[2]*i+coef[3] for i in x])\n",
    "y2 = coef[0]*x**4+coef[1]*x**3+coef[2]*x**2+coef[3]*x+coef[4]\n",
    "print (y2)\n",
    "print (y)"
   ]
  },
  {
   "cell_type": "code",
   "execution_count": 69,
   "metadata": {},
   "outputs": [
    {
     "data": {
      "text/plain": [
       "<matplotlib.legend.Legend at 0x25ea9966a50>"
      ]
     },
     "execution_count": 69,
     "metadata": {},
     "output_type": "execute_result"
    },
    {
     "data": {
      "image/png": "[encoded data removed]",
      "text/plain": [
       "<Figure size 800x600 with 1 Axes>"
      ]
     },
     "metadata": {},
     "output_type": "display_data"
    }
   ],
   "source": [
    "plt.figure(figsize=(8, 6))\n",
    "plt.plot(x, y, 'y-', label='Измеренное')\n",
    "plt.plot(x, y2, 'b:', label='Апроксимированное')\n",
    "plt.title('Зависимость y от x')\n",
    "plt.xlabel('x')\n",
    "plt.ylabel('y')\n",
    "plt.legend()"
   ]
  },
  {
   "cell_type": "code",
   "execution_count": 70,
   "metadata": {},
   "outputs": [],
   "source": [
    "eps = np.abs(y - y2) / y * 100"
   ]
  },
  {
   "cell_type": "code",
   "execution_count": 71,
   "metadata": {},
   "outputs": [
    {
     "data": {
      "text/plain": [
       "array([-0.00000000e+00, -5.45565756e+00, -1.04034530e+01, -1.45792802e+00,\n",
       "       -1.71540294e+01, -1.34434431e-14, -1.18986627e+01, -4.44029421e+00,\n",
       "       -1.64201996e+01, -7.55189218e+00, -0.00000000e+00, -8.14870771e+00,\n",
       "       -7.52438884e+00, -9.73113341e+00, -6.82151954e+00, -1.57737823e-13,\n",
       "        4.60806845e+01,  2.43786570e+01,  1.82213012e+01,  8.87675653e+00,\n",
       "        6.45100027e-14])"
      ]
     },
     "execution_count": 71,
     "metadata": {},
     "output_type": "execute_result"
    }
   ],
   "source": [
    "eps"
   ]
  },
  {
   "cell_type": "code",
   "execution_count": 72,
   "metadata": {},
   "outputs": [
    {
     "data": {
      "text/plain": [
       "np.float64(-0.45002222969563166)"
      ]
     },
     "execution_count": 72,
     "metadata": {},
     "output_type": "execute_result"
    }
   ],
   "source": [
    "np.mean(eps)"
   ]
  },
  {
   "cell_type": "code",
   "execution_count": 74,
   "metadata": {},
   "outputs": [
    {
     "data": {
      "text/plain": [
       "np.float64(25.771990254000016)"
      ]
     },
     "execution_count": 74,
     "metadata": {},
     "output_type": "execute_result"
    }
   ],
   "source": [
    "xnew = 2.5\n",
    "xv = np.array([xnew**4,xnew**3, xnew**2, xnew, 1])\n",
    "np.dot(xv, coef)"
   ]
  },
  {
   "cell_type": "code",
   "execution_count": null,
   "metadata": {},
   "outputs": [],
   "source": []
  }
 ],
 "metadata": {
  "kernelspec": {
   "display_name": "Python 3",
   "language": "python",
   "name": "python3"
  },
  "language_info": {
   "codemirror_mode": {
    "name": "ipython",
    "version": 3
   },
   "file_extension": ".py",
   "mimetype": "text/x-python",
   "name": "python",
   "nbconvert_exporter": "python",
   "pygments_lexer": "ipython3",
   "version": "3.13.0"
  }
 },
 "nbformat": 4,
 "nbformat_minor": 4
}
